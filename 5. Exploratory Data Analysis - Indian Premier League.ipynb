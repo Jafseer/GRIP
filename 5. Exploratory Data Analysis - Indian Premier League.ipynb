{
 "cells": [
  {
   "cell_type": "markdown",
   "metadata": {},
   "source": [
    "# Exploratory Data Analysis - Indian Premier League"
   ]
  },
  {
   "cell_type": "code",
   "execution_count": 122,
   "metadata": {},
   "outputs": [],
   "source": [
    "#Import Libraries\n",
    "import pandas as pd\n",
    "import numpy as np\n",
    "import matplotlib.pyplot as plt"
   ]
  },
  {
   "cell_type": "code",
   "execution_count": 123,
   "metadata": {},
   "outputs": [],
   "source": [
    "#Read Data\n",
    "df_matches=pd.read_csv(\"matches.csv\")\n",
    "df_deliveries=pd.read_csv(\"deliveries.csv\")"
   ]
  },
  {
   "cell_type": "code",
   "execution_count": 124,
   "metadata": {},
   "outputs": [
    {
     "data": {
      "text/html": [
       "<div>\n",
       "<style scoped>\n",
       "    .dataframe tbody tr th:only-of-type {\n",
       "        vertical-align: middle;\n",
       "    }\n",
       "\n",
       "    .dataframe tbody tr th {\n",
       "        vertical-align: top;\n",
       "    }\n",
       "\n",
       "    .dataframe thead th {\n",
       "        text-align: right;\n",
       "    }\n",
       "</style>\n",
       "<table border=\"1\" class=\"dataframe\">\n",
       "  <thead>\n",
       "    <tr style=\"text-align: right;\">\n",
       "      <th></th>\n",
       "      <th>id</th>\n",
       "      <th>season</th>\n",
       "      <th>city</th>\n",
       "      <th>date</th>\n",
       "      <th>team1</th>\n",
       "      <th>team2</th>\n",
       "      <th>toss_winner</th>\n",
       "      <th>toss_decision</th>\n",
       "      <th>result</th>\n",
       "      <th>dl_applied</th>\n",
       "      <th>winner</th>\n",
       "      <th>win_by_runs</th>\n",
       "      <th>win_by_wickets</th>\n",
       "      <th>player_of_match</th>\n",
       "      <th>venue</th>\n",
       "      <th>umpire1</th>\n",
       "      <th>umpire2</th>\n",
       "      <th>umpire3</th>\n",
       "    </tr>\n",
       "  </thead>\n",
       "  <tbody>\n",
       "    <tr>\n",
       "      <th>0</th>\n",
       "      <td>1</td>\n",
       "      <td>2017</td>\n",
       "      <td>Hyderabad</td>\n",
       "      <td>2017-04-05</td>\n",
       "      <td>Sunrisers Hyderabad</td>\n",
       "      <td>Royal Challengers Bangalore</td>\n",
       "      <td>Royal Challengers Bangalore</td>\n",
       "      <td>field</td>\n",
       "      <td>normal</td>\n",
       "      <td>0</td>\n",
       "      <td>Sunrisers Hyderabad</td>\n",
       "      <td>35</td>\n",
       "      <td>0</td>\n",
       "      <td>Yuvraj Singh</td>\n",
       "      <td>Rajiv Gandhi International Stadium, Uppal</td>\n",
       "      <td>AY Dandekar</td>\n",
       "      <td>NJ Llong</td>\n",
       "      <td>NaN</td>\n",
       "    </tr>\n",
       "    <tr>\n",
       "      <th>1</th>\n",
       "      <td>2</td>\n",
       "      <td>2017</td>\n",
       "      <td>Pune</td>\n",
       "      <td>2017-04-06</td>\n",
       "      <td>Mumbai Indians</td>\n",
       "      <td>Rising Pune Supergiant</td>\n",
       "      <td>Rising Pune Supergiant</td>\n",
       "      <td>field</td>\n",
       "      <td>normal</td>\n",
       "      <td>0</td>\n",
       "      <td>Rising Pune Supergiant</td>\n",
       "      <td>0</td>\n",
       "      <td>7</td>\n",
       "      <td>SPD Smith</td>\n",
       "      <td>Maharashtra Cricket Association Stadium</td>\n",
       "      <td>A Nand Kishore</td>\n",
       "      <td>S Ravi</td>\n",
       "      <td>NaN</td>\n",
       "    </tr>\n",
       "    <tr>\n",
       "      <th>2</th>\n",
       "      <td>3</td>\n",
       "      <td>2017</td>\n",
       "      <td>Rajkot</td>\n",
       "      <td>2017-04-07</td>\n",
       "      <td>Gujarat Lions</td>\n",
       "      <td>Kolkata Knight Riders</td>\n",
       "      <td>Kolkata Knight Riders</td>\n",
       "      <td>field</td>\n",
       "      <td>normal</td>\n",
       "      <td>0</td>\n",
       "      <td>Kolkata Knight Riders</td>\n",
       "      <td>0</td>\n",
       "      <td>10</td>\n",
       "      <td>CA Lynn</td>\n",
       "      <td>Saurashtra Cricket Association Stadium</td>\n",
       "      <td>Nitin Menon</td>\n",
       "      <td>CK Nandan</td>\n",
       "      <td>NaN</td>\n",
       "    </tr>\n",
       "    <tr>\n",
       "      <th>3</th>\n",
       "      <td>4</td>\n",
       "      <td>2017</td>\n",
       "      <td>Indore</td>\n",
       "      <td>2017-04-08</td>\n",
       "      <td>Rising Pune Supergiant</td>\n",
       "      <td>Kings XI Punjab</td>\n",
       "      <td>Kings XI Punjab</td>\n",
       "      <td>field</td>\n",
       "      <td>normal</td>\n",
       "      <td>0</td>\n",
       "      <td>Kings XI Punjab</td>\n",
       "      <td>0</td>\n",
       "      <td>6</td>\n",
       "      <td>GJ Maxwell</td>\n",
       "      <td>Holkar Cricket Stadium</td>\n",
       "      <td>AK Chaudhary</td>\n",
       "      <td>C Shamshuddin</td>\n",
       "      <td>NaN</td>\n",
       "    </tr>\n",
       "    <tr>\n",
       "      <th>4</th>\n",
       "      <td>5</td>\n",
       "      <td>2017</td>\n",
       "      <td>Bangalore</td>\n",
       "      <td>2017-04-08</td>\n",
       "      <td>Royal Challengers Bangalore</td>\n",
       "      <td>Delhi Daredevils</td>\n",
       "      <td>Royal Challengers Bangalore</td>\n",
       "      <td>bat</td>\n",
       "      <td>normal</td>\n",
       "      <td>0</td>\n",
       "      <td>Royal Challengers Bangalore</td>\n",
       "      <td>15</td>\n",
       "      <td>0</td>\n",
       "      <td>KM Jadhav</td>\n",
       "      <td>M Chinnaswamy Stadium</td>\n",
       "      <td>NaN</td>\n",
       "      <td>NaN</td>\n",
       "      <td>NaN</td>\n",
       "    </tr>\n",
       "  </tbody>\n",
       "</table>\n",
       "</div>"
      ],
      "text/plain": [
       "   id  season       city        date                        team1  \\\n",
       "0   1    2017  Hyderabad  2017-04-05          Sunrisers Hyderabad   \n",
       "1   2    2017       Pune  2017-04-06               Mumbai Indians   \n",
       "2   3    2017     Rajkot  2017-04-07                Gujarat Lions   \n",
       "3   4    2017     Indore  2017-04-08       Rising Pune Supergiant   \n",
       "4   5    2017  Bangalore  2017-04-08  Royal Challengers Bangalore   \n",
       "\n",
       "                         team2                  toss_winner toss_decision  \\\n",
       "0  Royal Challengers Bangalore  Royal Challengers Bangalore         field   \n",
       "1       Rising Pune Supergiant       Rising Pune Supergiant         field   \n",
       "2        Kolkata Knight Riders        Kolkata Knight Riders         field   \n",
       "3              Kings XI Punjab              Kings XI Punjab         field   \n",
       "4             Delhi Daredevils  Royal Challengers Bangalore           bat   \n",
       "\n",
       "   result  dl_applied                       winner  win_by_runs  \\\n",
       "0  normal           0          Sunrisers Hyderabad           35   \n",
       "1  normal           0       Rising Pune Supergiant            0   \n",
       "2  normal           0        Kolkata Knight Riders            0   \n",
       "3  normal           0              Kings XI Punjab            0   \n",
       "4  normal           0  Royal Challengers Bangalore           15   \n",
       "\n",
       "   win_by_wickets player_of_match                                      venue  \\\n",
       "0               0    Yuvraj Singh  Rajiv Gandhi International Stadium, Uppal   \n",
       "1               7       SPD Smith    Maharashtra Cricket Association Stadium   \n",
       "2              10         CA Lynn     Saurashtra Cricket Association Stadium   \n",
       "3               6      GJ Maxwell                     Holkar Cricket Stadium   \n",
       "4               0       KM Jadhav                      M Chinnaswamy Stadium   \n",
       "\n",
       "          umpire1        umpire2 umpire3  \n",
       "0     AY Dandekar       NJ Llong     NaN  \n",
       "1  A Nand Kishore         S Ravi     NaN  \n",
       "2     Nitin Menon      CK Nandan     NaN  \n",
       "3    AK Chaudhary  C Shamshuddin     NaN  \n",
       "4             NaN            NaN     NaN  "
      ]
     },
     "execution_count": 124,
     "metadata": {},
     "output_type": "execute_result"
    }
   ],
   "source": [
    "df_matches.head()"
   ]
  },
  {
   "cell_type": "code",
   "execution_count": 125,
   "metadata": {},
   "outputs": [
    {
     "data": {
      "text/html": [
       "<div>\n",
       "<style scoped>\n",
       "    .dataframe tbody tr th:only-of-type {\n",
       "        vertical-align: middle;\n",
       "    }\n",
       "\n",
       "    .dataframe tbody tr th {\n",
       "        vertical-align: top;\n",
       "    }\n",
       "\n",
       "    .dataframe thead th {\n",
       "        text-align: right;\n",
       "    }\n",
       "</style>\n",
       "<table border=\"1\" class=\"dataframe\">\n",
       "  <thead>\n",
       "    <tr style=\"text-align: right;\">\n",
       "      <th></th>\n",
       "      <th>id</th>\n",
       "      <th>season</th>\n",
       "      <th>city</th>\n",
       "      <th>date</th>\n",
       "      <th>team1</th>\n",
       "      <th>team2</th>\n",
       "      <th>toss_winner</th>\n",
       "      <th>toss_decision</th>\n",
       "      <th>result</th>\n",
       "      <th>dl_applied</th>\n",
       "      <th>winner</th>\n",
       "      <th>win_by_runs</th>\n",
       "      <th>win_by_wickets</th>\n",
       "      <th>player_of_match</th>\n",
       "      <th>venue</th>\n",
       "      <th>umpire1</th>\n",
       "      <th>umpire2</th>\n",
       "      <th>umpire3</th>\n",
       "    </tr>\n",
       "  </thead>\n",
       "  <tbody>\n",
       "    <tr>\n",
       "      <th>751</th>\n",
       "      <td>11347</td>\n",
       "      <td>2019</td>\n",
       "      <td>Mumbai</td>\n",
       "      <td>05/05/19</td>\n",
       "      <td>Kolkata Knight Riders</td>\n",
       "      <td>Mumbai Indians</td>\n",
       "      <td>Mumbai Indians</td>\n",
       "      <td>field</td>\n",
       "      <td>normal</td>\n",
       "      <td>0</td>\n",
       "      <td>Mumbai Indians</td>\n",
       "      <td>0</td>\n",
       "      <td>9</td>\n",
       "      <td>HH Pandya</td>\n",
       "      <td>Wankhede Stadium</td>\n",
       "      <td>Nanda Kishore</td>\n",
       "      <td>O Nandan</td>\n",
       "      <td>S Ravi</td>\n",
       "    </tr>\n",
       "    <tr>\n",
       "      <th>752</th>\n",
       "      <td>11412</td>\n",
       "      <td>2019</td>\n",
       "      <td>Chennai</td>\n",
       "      <td>07/05/19</td>\n",
       "      <td>Chennai Super Kings</td>\n",
       "      <td>Mumbai Indians</td>\n",
       "      <td>Chennai Super Kings</td>\n",
       "      <td>bat</td>\n",
       "      <td>normal</td>\n",
       "      <td>0</td>\n",
       "      <td>Mumbai Indians</td>\n",
       "      <td>0</td>\n",
       "      <td>6</td>\n",
       "      <td>AS Yadav</td>\n",
       "      <td>M. A. Chidambaram Stadium</td>\n",
       "      <td>Nigel Llong</td>\n",
       "      <td>Nitin Menon</td>\n",
       "      <td>Ian Gould</td>\n",
       "    </tr>\n",
       "    <tr>\n",
       "      <th>753</th>\n",
       "      <td>11413</td>\n",
       "      <td>2019</td>\n",
       "      <td>Visakhapatnam</td>\n",
       "      <td>08/05/19</td>\n",
       "      <td>Sunrisers Hyderabad</td>\n",
       "      <td>Delhi Capitals</td>\n",
       "      <td>Delhi Capitals</td>\n",
       "      <td>field</td>\n",
       "      <td>normal</td>\n",
       "      <td>0</td>\n",
       "      <td>Delhi Capitals</td>\n",
       "      <td>0</td>\n",
       "      <td>2</td>\n",
       "      <td>RR Pant</td>\n",
       "      <td>ACA-VDCA Stadium</td>\n",
       "      <td>NaN</td>\n",
       "      <td>NaN</td>\n",
       "      <td>NaN</td>\n",
       "    </tr>\n",
       "    <tr>\n",
       "      <th>754</th>\n",
       "      <td>11414</td>\n",
       "      <td>2019</td>\n",
       "      <td>Visakhapatnam</td>\n",
       "      <td>10/05/19</td>\n",
       "      <td>Delhi Capitals</td>\n",
       "      <td>Chennai Super Kings</td>\n",
       "      <td>Chennai Super Kings</td>\n",
       "      <td>field</td>\n",
       "      <td>normal</td>\n",
       "      <td>0</td>\n",
       "      <td>Chennai Super Kings</td>\n",
       "      <td>0</td>\n",
       "      <td>6</td>\n",
       "      <td>F du Plessis</td>\n",
       "      <td>ACA-VDCA Stadium</td>\n",
       "      <td>Sundaram Ravi</td>\n",
       "      <td>Bruce Oxenford</td>\n",
       "      <td>Chettithody Shamshuddin</td>\n",
       "    </tr>\n",
       "    <tr>\n",
       "      <th>755</th>\n",
       "      <td>11415</td>\n",
       "      <td>2019</td>\n",
       "      <td>Hyderabad</td>\n",
       "      <td>12/05/19</td>\n",
       "      <td>Mumbai Indians</td>\n",
       "      <td>Chennai Super Kings</td>\n",
       "      <td>Mumbai Indians</td>\n",
       "      <td>bat</td>\n",
       "      <td>normal</td>\n",
       "      <td>0</td>\n",
       "      <td>Mumbai Indians</td>\n",
       "      <td>1</td>\n",
       "      <td>0</td>\n",
       "      <td>JJ Bumrah</td>\n",
       "      <td>Rajiv Gandhi Intl. Cricket Stadium</td>\n",
       "      <td>Nitin Menon</td>\n",
       "      <td>Ian Gould</td>\n",
       "      <td>Nigel Llong</td>\n",
       "    </tr>\n",
       "  </tbody>\n",
       "</table>\n",
       "</div>"
      ],
      "text/plain": [
       "        id  season           city      date                  team1  \\\n",
       "751  11347    2019         Mumbai  05/05/19  Kolkata Knight Riders   \n",
       "752  11412    2019        Chennai  07/05/19    Chennai Super Kings   \n",
       "753  11413    2019  Visakhapatnam  08/05/19    Sunrisers Hyderabad   \n",
       "754  11414    2019  Visakhapatnam  10/05/19         Delhi Capitals   \n",
       "755  11415    2019      Hyderabad  12/05/19         Mumbai Indians   \n",
       "\n",
       "                   team2          toss_winner toss_decision  result  \\\n",
       "751       Mumbai Indians       Mumbai Indians         field  normal   \n",
       "752       Mumbai Indians  Chennai Super Kings           bat  normal   \n",
       "753       Delhi Capitals       Delhi Capitals         field  normal   \n",
       "754  Chennai Super Kings  Chennai Super Kings         field  normal   \n",
       "755  Chennai Super Kings       Mumbai Indians           bat  normal   \n",
       "\n",
       "     dl_applied               winner  win_by_runs  win_by_wickets  \\\n",
       "751           0       Mumbai Indians            0               9   \n",
       "752           0       Mumbai Indians            0               6   \n",
       "753           0       Delhi Capitals            0               2   \n",
       "754           0  Chennai Super Kings            0               6   \n",
       "755           0       Mumbai Indians            1               0   \n",
       "\n",
       "    player_of_match                               venue        umpire1  \\\n",
       "751       HH Pandya                    Wankhede Stadium  Nanda Kishore   \n",
       "752        AS Yadav           M. A. Chidambaram Stadium    Nigel Llong   \n",
       "753         RR Pant                    ACA-VDCA Stadium            NaN   \n",
       "754    F du Plessis                    ACA-VDCA Stadium  Sundaram Ravi   \n",
       "755       JJ Bumrah  Rajiv Gandhi Intl. Cricket Stadium    Nitin Menon   \n",
       "\n",
       "            umpire2                  umpire3  \n",
       "751        O Nandan                   S Ravi  \n",
       "752     Nitin Menon                Ian Gould  \n",
       "753             NaN                      NaN  \n",
       "754  Bruce Oxenford  Chettithody Shamshuddin  \n",
       "755       Ian Gould              Nigel Llong  "
      ]
     },
     "execution_count": 125,
     "metadata": {},
     "output_type": "execute_result"
    }
   ],
   "source": [
    "df_matches.tail()"
   ]
  },
  {
   "cell_type": "code",
   "execution_count": 126,
   "metadata": {},
   "outputs": [
    {
     "data": {
      "text/plain": [
       "(756, 18)"
      ]
     },
     "execution_count": 126,
     "metadata": {},
     "output_type": "execute_result"
    }
   ],
   "source": [
    "df_matches.shape"
   ]
  },
  {
   "cell_type": "code",
   "execution_count": 127,
   "metadata": {},
   "outputs": [
    {
     "data": {
      "text/html": [
       "<div>\n",
       "<style scoped>\n",
       "    .dataframe tbody tr th:only-of-type {\n",
       "        vertical-align: middle;\n",
       "    }\n",
       "\n",
       "    .dataframe tbody tr th {\n",
       "        vertical-align: top;\n",
       "    }\n",
       "\n",
       "    .dataframe thead th {\n",
       "        text-align: right;\n",
       "    }\n",
       "</style>\n",
       "<table border=\"1\" class=\"dataframe\">\n",
       "  <thead>\n",
       "    <tr style=\"text-align: right;\">\n",
       "      <th></th>\n",
       "      <th>match_id</th>\n",
       "      <th>inning</th>\n",
       "      <th>batting_team</th>\n",
       "      <th>bowling_team</th>\n",
       "      <th>over</th>\n",
       "      <th>ball</th>\n",
       "      <th>batsman</th>\n",
       "      <th>non_striker</th>\n",
       "      <th>bowler</th>\n",
       "      <th>is_super_over</th>\n",
       "      <th>...</th>\n",
       "      <th>bye_runs</th>\n",
       "      <th>legbye_runs</th>\n",
       "      <th>noball_runs</th>\n",
       "      <th>penalty_runs</th>\n",
       "      <th>batsman_runs</th>\n",
       "      <th>extra_runs</th>\n",
       "      <th>total_runs</th>\n",
       "      <th>player_dismissed</th>\n",
       "      <th>dismissal_kind</th>\n",
       "      <th>fielder</th>\n",
       "    </tr>\n",
       "  </thead>\n",
       "  <tbody>\n",
       "    <tr>\n",
       "      <th>0</th>\n",
       "      <td>1</td>\n",
       "      <td>1</td>\n",
       "      <td>Sunrisers Hyderabad</td>\n",
       "      <td>Royal Challengers Bangalore</td>\n",
       "      <td>1</td>\n",
       "      <td>1</td>\n",
       "      <td>DA Warner</td>\n",
       "      <td>S Dhawan</td>\n",
       "      <td>TS Mills</td>\n",
       "      <td>0</td>\n",
       "      <td>...</td>\n",
       "      <td>0</td>\n",
       "      <td>0</td>\n",
       "      <td>0</td>\n",
       "      <td>0</td>\n",
       "      <td>0</td>\n",
       "      <td>0</td>\n",
       "      <td>0</td>\n",
       "      <td>NaN</td>\n",
       "      <td>NaN</td>\n",
       "      <td>NaN</td>\n",
       "    </tr>\n",
       "    <tr>\n",
       "      <th>1</th>\n",
       "      <td>1</td>\n",
       "      <td>1</td>\n",
       "      <td>Sunrisers Hyderabad</td>\n",
       "      <td>Royal Challengers Bangalore</td>\n",
       "      <td>1</td>\n",
       "      <td>2</td>\n",
       "      <td>DA Warner</td>\n",
       "      <td>S Dhawan</td>\n",
       "      <td>TS Mills</td>\n",
       "      <td>0</td>\n",
       "      <td>...</td>\n",
       "      <td>0</td>\n",
       "      <td>0</td>\n",
       "      <td>0</td>\n",
       "      <td>0</td>\n",
       "      <td>0</td>\n",
       "      <td>0</td>\n",
       "      <td>0</td>\n",
       "      <td>NaN</td>\n",
       "      <td>NaN</td>\n",
       "      <td>NaN</td>\n",
       "    </tr>\n",
       "    <tr>\n",
       "      <th>2</th>\n",
       "      <td>1</td>\n",
       "      <td>1</td>\n",
       "      <td>Sunrisers Hyderabad</td>\n",
       "      <td>Royal Challengers Bangalore</td>\n",
       "      <td>1</td>\n",
       "      <td>3</td>\n",
       "      <td>DA Warner</td>\n",
       "      <td>S Dhawan</td>\n",
       "      <td>TS Mills</td>\n",
       "      <td>0</td>\n",
       "      <td>...</td>\n",
       "      <td>0</td>\n",
       "      <td>0</td>\n",
       "      <td>0</td>\n",
       "      <td>0</td>\n",
       "      <td>4</td>\n",
       "      <td>0</td>\n",
       "      <td>4</td>\n",
       "      <td>NaN</td>\n",
       "      <td>NaN</td>\n",
       "      <td>NaN</td>\n",
       "    </tr>\n",
       "    <tr>\n",
       "      <th>3</th>\n",
       "      <td>1</td>\n",
       "      <td>1</td>\n",
       "      <td>Sunrisers Hyderabad</td>\n",
       "      <td>Royal Challengers Bangalore</td>\n",
       "      <td>1</td>\n",
       "      <td>4</td>\n",
       "      <td>DA Warner</td>\n",
       "      <td>S Dhawan</td>\n",
       "      <td>TS Mills</td>\n",
       "      <td>0</td>\n",
       "      <td>...</td>\n",
       "      <td>0</td>\n",
       "      <td>0</td>\n",
       "      <td>0</td>\n",
       "      <td>0</td>\n",
       "      <td>0</td>\n",
       "      <td>0</td>\n",
       "      <td>0</td>\n",
       "      <td>NaN</td>\n",
       "      <td>NaN</td>\n",
       "      <td>NaN</td>\n",
       "    </tr>\n",
       "    <tr>\n",
       "      <th>4</th>\n",
       "      <td>1</td>\n",
       "      <td>1</td>\n",
       "      <td>Sunrisers Hyderabad</td>\n",
       "      <td>Royal Challengers Bangalore</td>\n",
       "      <td>1</td>\n",
       "      <td>5</td>\n",
       "      <td>DA Warner</td>\n",
       "      <td>S Dhawan</td>\n",
       "      <td>TS Mills</td>\n",
       "      <td>0</td>\n",
       "      <td>...</td>\n",
       "      <td>0</td>\n",
       "      <td>0</td>\n",
       "      <td>0</td>\n",
       "      <td>0</td>\n",
       "      <td>0</td>\n",
       "      <td>2</td>\n",
       "      <td>2</td>\n",
       "      <td>NaN</td>\n",
       "      <td>NaN</td>\n",
       "      <td>NaN</td>\n",
       "    </tr>\n",
       "  </tbody>\n",
       "</table>\n",
       "<p>5 rows × 21 columns</p>\n",
       "</div>"
      ],
      "text/plain": [
       "   match_id  inning         batting_team                 bowling_team  over  \\\n",
       "0         1       1  Sunrisers Hyderabad  Royal Challengers Bangalore     1   \n",
       "1         1       1  Sunrisers Hyderabad  Royal Challengers Bangalore     1   \n",
       "2         1       1  Sunrisers Hyderabad  Royal Challengers Bangalore     1   \n",
       "3         1       1  Sunrisers Hyderabad  Royal Challengers Bangalore     1   \n",
       "4         1       1  Sunrisers Hyderabad  Royal Challengers Bangalore     1   \n",
       "\n",
       "   ball    batsman non_striker    bowler  is_super_over  ...  bye_runs  \\\n",
       "0     1  DA Warner    S Dhawan  TS Mills              0  ...         0   \n",
       "1     2  DA Warner    S Dhawan  TS Mills              0  ...         0   \n",
       "2     3  DA Warner    S Dhawan  TS Mills              0  ...         0   \n",
       "3     4  DA Warner    S Dhawan  TS Mills              0  ...         0   \n",
       "4     5  DA Warner    S Dhawan  TS Mills              0  ...         0   \n",
       "\n",
       "   legbye_runs  noball_runs  penalty_runs  batsman_runs  extra_runs  \\\n",
       "0            0            0             0             0           0   \n",
       "1            0            0             0             0           0   \n",
       "2            0            0             0             4           0   \n",
       "3            0            0             0             0           0   \n",
       "4            0            0             0             0           2   \n",
       "\n",
       "   total_runs  player_dismissed dismissal_kind fielder  \n",
       "0           0               NaN            NaN     NaN  \n",
       "1           0               NaN            NaN     NaN  \n",
       "2           4               NaN            NaN     NaN  \n",
       "3           0               NaN            NaN     NaN  \n",
       "4           2               NaN            NaN     NaN  \n",
       "\n",
       "[5 rows x 21 columns]"
      ]
     },
     "execution_count": 127,
     "metadata": {},
     "output_type": "execute_result"
    }
   ],
   "source": [
    "df_deliveries.head()"
   ]
  },
  {
   "cell_type": "code",
   "execution_count": 128,
   "metadata": {},
   "outputs": [
    {
     "data": {
      "text/plain": [
       "(179078, 21)"
      ]
     },
     "execution_count": 128,
     "metadata": {},
     "output_type": "execute_result"
    }
   ],
   "source": [
    "df_deliveries.shape"
   ]
  },
  {
   "cell_type": "code",
   "execution_count": 155,
   "metadata": {},
   "outputs": [
    {
     "name": "stdout",
     "output_type": "stream",
     "text": [
      "Teams:\n",
      " ['Sunrisers Hyderabad' 'Mumbai Indians' 'Gujarat Lions'\n",
      " 'Rising Pune Supergiant' 'Royal Challengers Bangalore'\n",
      " 'Kolkata Knight Riders' 'Delhi Daredevils' 'Kings XI Punjab'\n",
      " 'Chennai Super Kings' 'Rajasthan Royals' 'Deccan Chargers'\n",
      " 'Kochi Tuskers Kerala' 'Pune Warriors' 'Rising Pune Supergiants'\n",
      " 'Delhi Capitals']\n"
     ]
    }
   ],
   "source": [
    "# All Teams\n",
    "Teams = df_matches[\"team1\"].unique()\n",
    "print(\"Teams:\\n\",Teams)"
   ]
  },
  {
   "cell_type": "code",
   "execution_count": 156,
   "metadata": {},
   "outputs": [],
   "source": [
    "T = Teams"
   ]
  },
  {
   "cell_type": "code",
   "execution_count": 158,
   "metadata": {},
   "outputs": [],
   "source": [
    "T.sort()"
   ]
  },
  {
   "cell_type": "code",
   "execution_count": 159,
   "metadata": {},
   "outputs": [
    {
     "data": {
      "text/plain": [
       "array(['Chennai Super Kings', 'Deccan Chargers', 'Delhi Capitals',\n",
       "       'Delhi Daredevils', 'Gujarat Lions', 'Kings XI Punjab',\n",
       "       'Kochi Tuskers Kerala', 'Kolkata Knight Riders', 'Mumbai Indians',\n",
       "       'Pune Warriors', 'Rajasthan Royals', 'Rising Pune Supergiant',\n",
       "       'Rising Pune Supergiants', 'Royal Challengers Bangalore',\n",
       "       'Sunrisers Hyderabad'], dtype=object)"
      ]
     },
     "execution_count": 159,
     "metadata": {},
     "output_type": "execute_result"
    }
   ],
   "source": [
    "T"
   ]
  },
  {
   "cell_type": "code",
   "execution_count": 161,
   "metadata": {},
   "outputs": [
    {
     "name": "stdout",
     "output_type": "stream",
     "text": [
      "Teams:\n",
      " ['Chennai Super Kings' 'Deccan Chargers' 'Delhi Daredevils'\n",
      " 'Gujarat Lions' 'Kings XI Punjab' 'Kochi Tuskers Kerala'\n",
      " 'Kolkata Knight Riders' 'Mumbai Indians' 'Pune Warriors India'\n",
      " 'Rajasthan Royals' 'Rising Pune Supergiants'\n",
      " 'Royal Challengers Bangalore' 'SunRisers Hyderabad']\n"
     ]
    }
   ],
   "source": [
    "#Data Cleaning\n",
    "df_matches[\"team1\"].replace({\"Rising Pune Supergiant\": \"Rising Pune Supergiants\", \"Delhi Capitals\": \"Delhi Daredevils\", \"Sunrisers Hyderabad\": \"SunRisers Hyderabad\", \"Pune Warriors\":\"Pune Warriors India\"}, inplace=True)\n",
    "df_matches[\"team2\"].replace({\"Rising Pune Supergiant\": \"Rising Pune Supergiants\", \"Delhi Capitals\": \"Delhi Daredevils\", \"Sunrisers Hyderabad\": \"SunRisers Hyderabad\", \"Pune Warriors\":\"Pune Warriors India\"}, inplace=True)\n",
    "df_matches[\"winner\"].replace({\"Rising Pune Supergiant\": \"Rising Pune Supergiants\", \"Delhi Capitals\": \"Delhi Daredevils\", \"Sunrisers Hyderabad\": \"SunRisers Hyderabad\", \"Pune Warriors\":\"Pune Warriors India\"}, inplace=True)\n",
    "df_matches[\"toss_winner\"].replace({\"Rising Pune Supergiant\": \"Rising Pune Supergiants\", \"Delhi Capitals\": \"Delhi Daredevils\", \"Sunrisers Hyderabad\": \"SunRisers Hyderabad\", \"Pune Warriors\":\"Pune Warriors India\"}, inplace=True)\n",
    "Teams=df_matches[\"team1\"].unique()\n",
    "Teams.sort()\n",
    "#To consider only the main 8 teams, uncomment the next line:\n",
    "#teams=[\"Chennai Super Kings\",\"Delhi Daredevils\",\"Kings XI Punjab\",\"Kolkata Knight Riders\",\"Mumbai Indians\",\"Rajasthan Royals\",\"Royal Challengers Bangalore\",\"SunRisers Hyderabad\"]\n",
    "print(\"Teams:\\n\",(Teams))"
   ]
  },
  {
   "cell_type": "code",
   "execution_count": 162,
   "metadata": {},
   "outputs": [
    {
     "name": "stdout",
     "output_type": "stream",
     "text": [
      "TEAM                           SHORT NAME                    \n",
      "Chennai Super Kings            CSK                           \n",
      "Deccan Chargers                DC                            \n",
      "Delhi Daredevils               DD                            \n",
      "Gujarat Lions                  GL                            \n",
      "Kings XI Punjab                KXIP                          \n",
      "Kochi Tuskers Kerala           KTK                           \n",
      "Kolkata Knight Riders          KKR                           \n",
      "Mumbai Indians                 MI                            \n",
      "Pune Warriors India            PWI                           \n",
      "Rajasthan Royals               RR                            \n",
      "Rising Pune Supergiants        RPS                           \n",
      "Royal Challengers Bangalore    RCB                           \n",
      "SunRisers Hyderabad            SRH                           \n"
     ]
    }
   ],
   "source": [
    "#Assign Short-Forms of Teams\n",
    "Teams_Short=[]\n",
    "for i in Teams:\n",
    "    Teams_Short.append(''.join([c for c in i if c.isupper()]))\n",
    "print(\"{:<30} {:<30}\".format('TEAM', 'SHORT NAME'))\n",
    "ShortName=dict(zip(Teams,Teams_Short))\n",
    "for key, value in ShortName.items():\n",
    "    print(\"{:<30} {:<30}\".format(key, value))"
   ]
  },
  {
   "cell_type": "code",
   "execution_count": 163,
   "metadata": {},
   "outputs": [
    {
     "name": "stdout",
     "output_type": "stream",
     "text": [
      "Season:\n",
      " [2008 2009 2010 2011 2012 2013 2014 2015 2016 2017 2018 2019]\n"
     ]
    }
   ],
   "source": [
    "# All seasons\n",
    "Season = df_matches[\"season\"].unique()\n",
    "Season.sort()\n",
    "print(\"Season:\\n\",Season)"
   ]
  },
  {
   "cell_type": "code",
   "execution_count": 164,
   "metadata": {},
   "outputs": [
    {
     "name": "stdout",
     "output_type": "stream",
     "text": [
      "[3, 1, 0, 0, 0, 0, 2, 4, 0, 1, 0, 0, 1]\n"
     ]
    }
   ],
   "source": [
    "#Finding the most successful team\n",
    "winners=df_matches[df_matches[\"season\"].diff(-1)!=0].sort_values(by=\"season\")\n",
    "trophies_won=[]\n",
    "for i in Teams:\n",
    "    trophies_won.append(winners[\"winner\"].str.count(i).sum())\n",
    "print(trophies_won)"
   ]
  },
  {
   "cell_type": "code",
   "execution_count": 165,
   "metadata": {},
   "outputs": [
    {
     "name": "stdout",
     "output_type": "stream",
     "text": [
      "Trophies Won by Teams:\n",
      "TEAM                           TROPHIES                      \n",
      "Mumbai Indians                 4                             \n",
      "Chennai Super Kings            3                             \n",
      "Kolkata Knight Riders          2                             \n",
      "Deccan Chargers                1                             \n",
      "Rajasthan Royals               1                             \n",
      "SunRisers Hyderabad            1                             \n"
     ]
    }
   ],
   "source": [
    "#Most Successful Team in terms of Trophies Won\n",
    "success=dict(zip(Teams,trophies_won))\n",
    "success=dict(sorted(success.items(), key=lambda x: x[1], reverse=True))\n",
    "print(\"Trophies Won by Teams:\")\n",
    "print(\"{:<30} {:<30}\".format('TEAM', 'TROPHIES'))\n",
    "for key, value in success.items():\n",
    "    if value!=0:\n",
    "        print(\"{:<30} {:<30}\".format(key, value))"
   ]
  },
  {
   "cell_type": "code",
   "execution_count": 166,
   "metadata": {},
   "outputs": [
    {
     "data": {
      "text/plain": [
       "<BarContainer object of 13 artists>"
      ]
     },
     "execution_count": 166,
     "metadata": {},
     "output_type": "execute_result"
    },
    {
     "data": {
      "image/png": "[encoded data removed]",
      "text/plain": [
       "<Figure size 432x288 with 1 Axes>"
      ]
     },
     "metadata": {
      "needs_background": "light"
     },
     "output_type": "display_data"
    }
   ],
   "source": [
    "plt.bar(Teams_Short,trophies_won)"
   ]
  },
  {
   "cell_type": "code",
   "execution_count": 167,
   "metadata": {},
   "outputs": [
    {
     "name": "stdout",
     "output_type": "stream",
     "text": [
      "The Most Successful Team is : \u001b[1mMumbai Indians\u001b[0m\n",
      "They have won \u001b[1m4\u001b[0m IPL trophies.\n"
     ]
    }
   ],
   "source": [
    "successful=next(iter((success.items())))\n",
    "print(\"The Most Successful Team is : \"'\\033[1m'+successful[0]+'\\033[0m'\"\\nThey have won \"'\\033[1m'+str(successful[1])+'\\033[0m'\" IPL trophies.\")"
   ]
  },
  {
   "cell_type": "code",
   "execution_count": 168,
   "metadata": {},
   "outputs": [
    {
     "name": "stdout",
     "output_type": "stream",
     "text": [
      "HOME MACHES\n",
      "TEAM                           MACHES                        \n",
      "Mumbai Indians                 101                           \n",
      "Kings XI Punjab                91                            \n",
      "Chennai Super Kings            89                            \n",
      "Royal Challengers Bangalore    85                            \n",
      "Kolkata Knight Riders          83                            \n",
      "Delhi Daredevils               78                            \n",
      "Rajasthan Royals               67                            \n",
      "SunRisers Hyderabad            63                            \n",
      "Deccan Chargers                43                            \n",
      "Pune Warriors India            20                            \n",
      "Rising Pune Supergiants        15                            \n",
      "Gujarat Lions                  14                            \n",
      "Kochi Tuskers Kerala           7                             \n"
     ]
    }
   ],
   "source": [
    "#Count number of Home Matches\n",
    "home_matches_count=[]\n",
    "for i in Teams:\n",
    "    home_matches_count.append(df_matches['team1'].str.count(str(i)).sum())\n",
    "print(\"HOME MACHES\")\n",
    "print(\"{:<30} {:<30}\".format('TEAM', 'MACHES'))\n",
    "HomeMatches=dict(zip(Teams,home_matches_count))\n",
    "HomeMatches=dict(sorted(HomeMatches.items(), key=lambda x: x[1], reverse=True))\n",
    "for key, value in HomeMatches.items():\n",
    "    print(\"{:<30} {:<30}\".format(key, value))"
   ]
  },
  {
   "cell_type": "code",
   "execution_count": 169,
   "metadata": {},
   "outputs": [
    {
     "name": "stdout",
     "output_type": "stream",
     "text": [
      "AWAY MACHES\n",
      "TEAM                           MACHES                        \n",
      "Delhi Daredevils               99                            \n",
      "Kolkata Knight Riders          95                            \n",
      "Royal Challengers Bangalore    95                            \n",
      "Mumbai Indians                 86                            \n",
      "Kings XI Punjab                85                            \n",
      "Rajasthan Royals               80                            \n",
      "Chennai Super Kings            75                            \n",
      "SunRisers Hyderabad            45                            \n",
      "Deccan Chargers                32                            \n",
      "Pune Warriors India            26                            \n",
      "Gujarat Lions                  16                            \n",
      "Rising Pune Supergiants        15                            \n",
      "Kochi Tuskers Kerala           7                             \n"
     ]
    }
   ],
   "source": [
    "#Count number of Away Matches\n",
    "away_matches_count=[]\n",
    "for i in Teams:\n",
    "    away_matches_count.append((df_matches['team2'].str.count(i).sum()))\n",
    "print(\"AWAY MACHES\")\n",
    "print(\"{:<30} {:<30}\".format('TEAM', 'MACHES'))\n",
    "AwayMatches=dict(zip(Teams,away_matches_count))\n",
    "AwayMatches=dict(sorted(AwayMatches.items(), key=lambda x: x[1], reverse=True))\n",
    "for key, value in AwayMatches.items():\n",
    "    print(\"{:<30} {:<30}\".format(key, value))"
   ]
  },
  {
   "cell_type": "code",
   "execution_count": 170,
   "metadata": {},
   "outputs": [
    {
     "name": "stdout",
     "output_type": "stream",
     "text": [
      "TOTAL MACHES\n",
      "TEAM                           MACHES                        \n",
      "Mumbai Indians                 187                           \n",
      "Royal Challengers Bangalore    180                           \n",
      "Kolkata Knight Riders          178                           \n",
      "Delhi Daredevils               177                           \n",
      "Kings XI Punjab                176                           \n",
      "Chennai Super Kings            164                           \n",
      "Rajasthan Royals               147                           \n",
      "SunRisers Hyderabad            108                           \n",
      "Deccan Chargers                75                            \n",
      "Pune Warriors India            46                            \n",
      "Gujarat Lions                  30                            \n",
      "Rising Pune Supergiants        30                            \n",
      "Kochi Tuskers Kerala           14                            \n"
     ]
    }
   ],
   "source": [
    "#Add both arrays to find Total Matches\n",
    "total_matches=[]\n",
    "for i in range(len(Teams)):\n",
    "    total_matches.append(home_matches_count[i]+away_matches_count[i])\n",
    "print(\"TOTAL MACHES\")\n",
    "print(\"{:<30} {:<30}\".format('TEAM', 'MACHES'))\n",
    "TotalMatches=dict(zip(Teams,total_matches))\n",
    "TotalMatches=dict(sorted(TotalMatches.items(), key=lambda x: x[1], reverse=True))\n",
    "for key, value in TotalMatches.items():\n",
    "    print(\"{:<30} {:<30}\".format(key, value))"
   ]
  },
  {
   "cell_type": "code",
   "execution_count": 171,
   "metadata": {},
   "outputs": [
    {
     "name": "stdout",
     "output_type": "stream",
     "text": [
      "MACHES WON\n",
      "TEAM                           MACHES                        \n",
      "Mumbai Indians                 109.0                         \n",
      "Chennai Super Kings            100.0                         \n",
      "Kolkata Knight Riders          92.0                          \n",
      "Royal Challengers Bangalore    84.0                          \n",
      "Kings XI Punjab                82.0                          \n",
      "Delhi Daredevils               77.0                          \n",
      "Rajasthan Royals               75.0                          \n",
      "SunRisers Hyderabad            58.0                          \n",
      "Deccan Chargers                29.0                          \n",
      "Rising Pune Supergiants        15.0                          \n",
      "Gujarat Lions                  13.0                          \n",
      "Pune Warriors India            12.0                          \n",
      "Kochi Tuskers Kerala           6.0                           \n"
     ]
    }
   ],
   "source": [
    "#Count number of Matches Won\n",
    "won_matches_count=[]\n",
    "for i in Teams:\n",
    "    won_matches_count.append(df_matches['winner'].str.count(i).sum())\n",
    "print(\"MACHES WON\")\n",
    "print(\"{:<30} {:<30}\".format('TEAM', 'MACHES'))\n",
    "MatchesWon=dict(zip(Teams,won_matches_count))\n",
    "MatchesWon=dict(sorted(MatchesWon.items(), key=lambda x: x[1], reverse=True))\n",
    "for key, value in MatchesWon.items():\n",
    "    print(\"{:<30} {:<30}\".format(key, value))"
   ]
  },
  {
   "cell_type": "code",
   "execution_count": 172,
   "metadata": {},
   "outputs": [
    {
     "name": "stdout",
     "output_type": "stream",
     "text": [
      "OVERALL WINNING PERCENTAGE FOR TEAMS\n",
      "TEAM                           WIN %                         \n",
      "Chennai Super Kings            60.98                         \n",
      "Mumbai Indians                 58.29                         \n",
      "SunRisers Hyderabad            53.7                          \n",
      "Kolkata Knight Riders          51.69                         \n",
      "Rajasthan Royals               51.02                         \n",
      "Rising Pune Supergiants        50.0                          \n",
      "Royal Challengers Bangalore    46.67                         \n",
      "Kings XI Punjab                46.59                         \n",
      "Delhi Daredevils               43.5                          \n",
      "Gujarat Lions                  43.33                         \n",
      "Kochi Tuskers Kerala           42.86                         \n",
      "Deccan Chargers                38.67                         \n",
      "Pune Warriors India            26.09                         \n"
     ]
    }
   ],
   "source": [
    "#Winning percentage of each team\n",
    "winning_percentage=[]\n",
    "for i in range(len(Teams)):\n",
    "    winning_percentage.append(float('{0:.4g}'.format(won_matches_count[i]*100/total_matches[i])))\n",
    "\n",
    "print(\"OVERALL WINNING PERCENTAGE FOR TEAMS\")\n",
    "print(\"{:<30} {:<30}\".format('TEAM', 'WIN %'))\n",
    "WinningPercent=dict(zip(Teams,winning_percentage))\n",
    "WinningPercent=dict(sorted(WinningPercent.items(), key=lambda x: x[1], reverse=True))\n",
    "for key, value in WinningPercent.items():\n",
    "    print(\"{:<30} {:<30}\".format(key, value))"
   ]
  },
  {
   "cell_type": "code",
   "execution_count": 173,
   "metadata": {},
   "outputs": [
    {
     "data": {
      "text/plain": [
       "<BarContainer object of 13 artists>"
      ]
     },
     "execution_count": 173,
     "metadata": {},
     "output_type": "execute_result"
    },
    {
     "data": {
      "image/png": "[encoded data removed]",
      "text/plain": [
       "<Figure size 432x288 with 1 Axes>"
      ]
     },
     "metadata": {
      "needs_background": "light"
     },
     "output_type": "display_data"
    }
   ],
   "source": [
    "plt.bar(Teams_Short,winning_percentage)"
   ]
  },
  {
   "cell_type": "code",
   "execution_count": 174,
   "metadata": {},
   "outputs": [
    {
     "name": "stdout",
     "output_type": "stream",
     "text": [
      "The Most Consistent Team is: \u001b[1mChennai Super Kings\u001b[0m \n",
      "With win percentage of \u001b[1m60.98\u001b[0m overall.\n"
     ]
    }
   ],
   "source": [
    "consistent=next(iter((WinningPercent.items())))\n",
    "print(\"The Most Consistent Team is: \" '\\033[1m'+consistent[0]+'\\033[0m'\" \\nWith win percentage of \"'\\033[1m'+str(consistent[1])+'\\033[0m'\" overall.\")"
   ]
  },
  {
   "cell_type": "code",
   "execution_count": 206,
   "metadata": {},
   "outputs": [
    {
     "name": "stdout",
     "output_type": "stream",
     "text": [
      "Super over played [1, 0, 2, 1, 2, 0, 3, 2, 0, 3, 0, 2, 2]\n",
      "Super over won [0, 0, 1, 0, 2, 0, 0, 2, 0, 2, 0, 1, 1]\n"
     ]
    }
   ],
   "source": [
    "#Super Overs Records for Teams\n",
    "super_overs=df_matches[df_matches[\"result\"]==\"tie\"]\n",
    "total_super_overs_played=[]\n",
    "super_overs_won=[]\n",
    "for i in Teams:\n",
    "    total_super_overs_played.append(len(super_overs[(super_overs[\"team1\"]==i) | (super_overs[\"team2\"]==i)]))\n",
    "    super_overs_won.append(len(super_overs[super_overs[\"winner\"]==i]))\n",
    "print('Super over played',total_super_overs_played)\n",
    "print('Super over won',super_overs_won)"
   ]
  },
  {
   "cell_type": "code",
   "execution_count": 207,
   "metadata": {},
   "outputs": [
    {
     "name": "stdout",
     "output_type": "stream",
     "text": [
      "[0.0, 50.0, 0.0, 100.0, 0.0, 100.0, 66.67, 50.0, 50.0]\n"
     ]
    }
   ],
   "source": [
    "#Super Over Win Percentage\n",
    "super_over_percentage=[]\n",
    "super_over_teams=[]\n",
    "super_over_abb=[]\n",
    "for i in range(len(Teams)):\n",
    "    if total_super_overs_played[i]!=0:\n",
    "        super_over_percentage.append(float('{0:.4g}'.format(super_overs_won[i]*100/total_super_overs_played[i])))\n",
    "        super_over_teams.append(Teams[i])\n",
    "        super_over_abb.append(Teams_Short[i])\n",
    "print(super_over_percentage)"
   ]
  },
  {
   "cell_type": "code",
   "execution_count": 208,
   "metadata": {},
   "outputs": [
    {
     "name": "stdout",
     "output_type": "stream",
     "text": [
      "Super Overs Winning Percentage for Teams:\n",
      "TEAM                           WIN %                         \n",
      "Kings XI Punjab                100.0                         \n",
      "Mumbai Indians                 100.0                         \n",
      "Rajasthan Royals               66.67                         \n",
      "Delhi Daredevils               50.0                          \n",
      "Royal Challengers Bangalore    50.0                          \n",
      "SunRisers Hyderabad            50.0                          \n",
      "Chennai Super Kings            0.0                           \n",
      "Gujarat Lions                  0.0                           \n",
      "Kolkata Knight Riders          0.0                           \n"
     ]
    }
   ],
   "source": [
    "#Super Over Records\n",
    "super_over_records=dict(zip(super_over_teams,super_over_percentage))\n",
    "super_over_records=dict(sorted(super_over_records.items(), key=lambda x: x[1], reverse=True))\n",
    "print(\"Super Overs Winning Percentage for Teams:\")\n",
    "print(\"{:<30} {:<30}\".format('TEAM', 'WIN %'))\n",
    "for key, value in super_over_records.items():\n",
    "    print(\"{:<30} {:<30}\".format(key, value))"
   ]
  },
  {
   "cell_type": "code",
   "execution_count": 209,
   "metadata": {},
   "outputs": [
    {
     "data": {
      "text/plain": [
       "<BarContainer object of 9 artists>"
      ]
     },
     "execution_count": 209,
     "metadata": {},
     "output_type": "execute_result"
    },
    {
     "data": {
      "image/png": "[encoded data removed]",
      "text/plain": [
       "<Figure size 432x288 with 1 Axes>"
      ]
     },
     "metadata": {
      "needs_background": "light"
     },
     "output_type": "display_data"
    }
   ],
   "source": [
    "plt.bar(super_over_abb,super_over_percentage)"
   ]
  },
  {
   "cell_type": "markdown",
   "metadata": {},
   "source": [
    "Observation: \n",
    "\n",
    "Two teams have **100 %** win ratio in super overs.\n",
    "\n",
    "  They are **Kings XI Punjab** and **Mumbai Indians** "
   ]
  },
  {
   "cell_type": "code",
   "execution_count": 210,
   "metadata": {},
   "outputs": [
    {
     "name": "stdout",
     "output_type": "stream",
     "text": [
      "[51, 18, 28.0, 1, 38, 2, 34, 58, 6, 29, 5, 35.0, 30]\n"
     ]
    }
   ],
   "source": [
    "#Count number of Home Matches Won\n",
    "home_matches_won=[]\n",
    "for i in Teams:\n",
    "    df_i=df_matches[df_matches[\"team1\"]==i]\n",
    "    home_matches_won.append(df_i[\"winner\"].str.count(i).sum())\n",
    "print(home_matches_won)"
   ]
  },
  {
   "cell_type": "code",
   "execution_count": 211,
   "metadata": {},
   "outputs": [
    {
     "name": "stdout",
     "output_type": "stream",
     "text": [
      "[57.3, 41.86, 35.9, 7.143, 41.76, 28.57, 40.96, 57.43, 30.0, 43.28, 33.33, 41.18, 47.62]\n"
     ]
    }
   ],
   "source": [
    "#Home Winning Percentage\n",
    "home_win_percentage=[]\n",
    "for i in range(len(Teams)):\n",
    "    home_win_percentage.append(float('{0:.4g}'.format(home_matches_won[i]*100/home_matches_count[i])))\n",
    "print(home_win_percentage)"
   ]
  },
  {
   "cell_type": "code",
   "execution_count": 213,
   "metadata": {},
   "outputs": [
    {
     "name": "stdout",
     "output_type": "stream",
     "text": [
      "Home Winning Records for Teams:\n",
      "TEAM                           HOME WIN %                    \n",
      "Mumbai Indians                 57.43                         \n",
      "Chennai Super Kings            57.3                          \n",
      "SunRisers Hyderabad            47.62                         \n",
      "Rajasthan Royals               43.28                         \n",
      "Deccan Chargers                41.86                         \n",
      "Kings XI Punjab                41.76                         \n",
      "Royal Challengers Bangalore    41.18                         \n",
      "Kolkata Knight Riders          40.96                         \n",
      "Delhi Daredevils               35.9                          \n",
      "Rising Pune Supergiants        33.33                         \n",
      "Pune Warriors India            30.0                          \n",
      "Kochi Tuskers Kerala           28.57                         \n",
      "Gujarat Lions                  7.143                         \n"
     ]
    }
   ],
   "source": [
    "#Home Records\n",
    "home_records=dict(zip(Teams,home_win_percentage))\n",
    "home_records=dict(sorted(home_records.items(), key=lambda x: x[1], reverse=True))\n",
    "print(\"Home Winning Records for Teams:\")\n",
    "print(\"{:<30} {:<30}\".format('TEAM', 'HOME WIN %'))\n",
    "for key, value in home_records.items():\n",
    "    print(\"{:<30} {:<30}\".format(key, value))"
   ]
  },
  {
   "cell_type": "code",
   "execution_count": 215,
   "metadata": {},
   "outputs": [
    {
     "data": {
      "text/plain": [
       "<BarContainer object of 13 artists>"
      ]
     },
     "execution_count": 215,
     "metadata": {},
     "output_type": "execute_result"
    },
    {
     "data": {
      "image/png": "[encoded data removed]",
      "text/plain": [
       "<Figure size 432x288 with 1 Axes>"
      ]
     },
     "metadata": {
      "needs_background": "light"
     },
     "output_type": "display_data"
    }
   ],
   "source": [
    "plt.bar(Teams_Short,home_win_percentage)"
   ]
  },
  {
   "cell_type": "code",
   "execution_count": 216,
   "metadata": {},
   "outputs": [
    {
     "name": "stdout",
     "output_type": "stream",
     "text": [
      "Best Team at Home: **Mumbai Indians** \n",
      "With win percentage of 57.43 when they play at home.\n"
     ]
    }
   ],
   "source": [
    "fortress=next(iter((home_records.items())))\n",
    "print(\"Best Team at Home: **\"+fortress[0]+\"** \\nWith win percentage of \"+str(fortress[1])+\" when they play at home.\")"
   ]
  },
  {
   "cell_type": "code",
   "execution_count": 218,
   "metadata": {},
   "outputs": [
    {
     "name": "stdout",
     "output_type": "stream",
     "text": [
      "[49, 11, 49, 12, 44, 4, 58, 51, 6.0, 46.0, 10, 49.0, 28]\n"
     ]
    }
   ],
   "source": [
    "#Count number of Away Matches Won\n",
    "away_matches_won=[]\n",
    "for i in Teams:\n",
    "    df_i=df_matches[df_matches[\"team2\"]==i]\n",
    "    away_matches_won.append(df_i[\"winner\"].str.count(i).sum())\n",
    "print(away_matches_won)"
   ]
  },
  {
   "cell_type": "code",
   "execution_count": 219,
   "metadata": {},
   "outputs": [
    {
     "name": "stdout",
     "output_type": "stream",
     "text": [
      "[65.33, 34.38, 49.49, 75.0, 51.76, 57.14, 61.05, 59.3, 23.08, 57.5, 66.67, 51.58, 62.22]\n"
     ]
    }
   ],
   "source": [
    "#Away Winning Percentage\n",
    "away_win_percentage=[]\n",
    "for i in range(len(Teams)):\n",
    "    away_win_percentage.append(float('{0:.4g}'.format(away_matches_won[i]*100/away_matches_count[i])))\n",
    "print(away_win_percentage)"
   ]
  },
  {
   "cell_type": "code",
   "execution_count": 220,
   "metadata": {},
   "outputs": [
    {
     "name": "stdout",
     "output_type": "stream",
     "text": [
      "Away Winning Records for Teams:\n",
      "TEAM                           AWAY WIN %                    \n",
      "Gujarat Lions                  75.0                          \n",
      "Rising Pune Supergiants        66.67                         \n",
      "Chennai Super Kings            65.33                         \n",
      "SunRisers Hyderabad            62.22                         \n",
      "Kolkata Knight Riders          61.05                         \n",
      "Mumbai Indians                 59.3                          \n",
      "Rajasthan Royals               57.5                          \n",
      "Kochi Tuskers Kerala           57.14                         \n",
      "Kings XI Punjab                51.76                         \n",
      "Royal Challengers Bangalore    51.58                         \n",
      "Delhi Daredevils               49.49                         \n",
      "Deccan Chargers                34.38                         \n",
      "Pune Warriors India            23.08                         \n"
     ]
    }
   ],
   "source": [
    "#Away Records\n",
    "away_records=dict(zip(Teams,away_win_percentage))\n",
    "away_records=dict(sorted(away_records.items(), key=lambda x: x[1], reverse=True))\n",
    "print(\"Away Winning Records for Teams:\")\n",
    "print(\"{:<30} {:<30}\".format('TEAM', 'AWAY WIN %'))\n",
    "for key, value in away_records.items():\n",
    "  print(\"{:<30} {:<30}\".format(key, value))"
   ]
  },
  {
   "cell_type": "code",
   "execution_count": 222,
   "metadata": {},
   "outputs": [
    {
     "data": {
      "text/plain": [
       "<BarContainer object of 13 artists>"
      ]
     },
     "execution_count": 222,
     "metadata": {},
     "output_type": "execute_result"
    },
    {
     "data": {
      "image/png": "[encoded data removed]",
      "text/plain": [
       "<Figure size 432x288 with 1 Axes>"
      ]
     },
     "metadata": {
      "needs_background": "light"
     },
     "output_type": "display_data"
    }
   ],
   "source": [
    "plt.bar(Teams_Short,away_win_percentage)"
   ]
  },
  {
   "cell_type": "code",
   "execution_count": 223,
   "metadata": {},
   "outputs": [
    {
     "name": "stdout",
     "output_type": "stream",
     "text": [
      "Best Touring Team: **Gujarat Lions** \n",
      "With win percentage of 75.0 when they are the visiting team.\n"
     ]
    }
   ],
   "source": [
    "attacker=next(iter((away_records.items())))\n",
    "print(\"Best Touring Team: **\"+attacker[0]+\"** \\nWith win percentage of \"+str(attacker[1])+\" when they are the visiting team.\")"
   ]
  },
  {
   "cell_type": "code",
   "execution_count": 229,
   "metadata": {},
   "outputs": [
    {
     "name": "stdout",
     "output_type": "stream",
     "text": [
      "Toss win [89, 43, 90, 15, 81, 8, 92, 98, 20, 80, 13, 81, 46]\n",
      "Toss and Match win [57, 19, 42.0, 10, 35, 4, 53, 56, 3, 42.0, 8, 41.0, 23]\n"
     ]
    }
   ],
   "source": [
    "#Count Number of Toss Wins\n",
    "toss_wins_count=[]\n",
    "toss_and_match_wins=[]\n",
    "for i in Teams:\n",
    "    df_i=df_matches[df_matches[\"toss_winner\"]==i]\n",
    "    toss_wins_count.append(len(df_i))\n",
    "    toss_and_match_wins.append(df_i[\"winner\"].str.count(i).sum())\n",
    "print(\"Toss win\",toss_wins_count)\n",
    "print(\"Toss and Match win\",toss_and_match_wins)"
   ]
  },
  {
   "cell_type": "code",
   "execution_count": 230,
   "metadata": {},
   "outputs": [
    {
     "name": "stdout",
     "output_type": "stream",
     "text": [
      "[64.04, 44.19, 46.67, 66.67, 43.21, 50.0, 57.61, 57.14, 15.0, 52.5, 61.54, 50.62, 50.0]\n"
     ]
    }
   ],
   "source": [
    "#Toss Winning Percentage\n",
    "toss_win_match_win_percentage=[]\n",
    "for i in range(len(Teams)):\n",
    "    toss_win_match_win_percentage.append(float('{0:.4g}'.format(toss_and_match_wins[i]*100/toss_wins_count[i])))\n",
    "print(toss_win_match_win_percentage)"
   ]
  },
  {
   "cell_type": "code",
   "execution_count": 231,
   "metadata": {},
   "outputs": [
    {
     "name": "stdout",
     "output_type": "stream",
     "text": [
      "Toss Win and Match Win Records for Teams:\n",
      "TEAM                           TOSS WIN MATCH WIN %          \n",
      "Gujarat Lions                  66.67                         \n",
      "Chennai Super Kings            64.04                         \n",
      "Rising Pune Supergiants        61.54                         \n",
      "Kolkata Knight Riders          57.61                         \n",
      "Mumbai Indians                 57.14                         \n",
      "Rajasthan Royals               52.5                          \n",
      "Royal Challengers Bangalore    50.62                         \n",
      "Kochi Tuskers Kerala           50.0                          \n",
      "SunRisers Hyderabad            50.0                          \n",
      "Delhi Daredevils               46.67                         \n",
      "Deccan Chargers                44.19                         \n",
      "Kings XI Punjab                43.21                         \n",
      "Pune Warriors India            15.0                          \n"
     ]
    }
   ],
   "source": [
    "#Toss Win Records\n",
    "toss_win_records=dict(zip(Teams,toss_win_match_win_percentage))\n",
    "toss_win_records=dict(sorted(toss_win_records.items(), key=lambda x: x[1], reverse=True))\n",
    "print(\"Toss Win and Match Win Records for Teams:\")\n",
    "print(\"{:<30} {:<30}\".format('TEAM', 'TOSS WIN MATCH WIN %'))\n",
    "for key, value in toss_win_records.items():\n",
    "    print(\"{:<30} {:<30}\".format(key, value))"
   ]
  },
  {
   "cell_type": "code",
   "execution_count": 232,
   "metadata": {},
   "outputs": [
    {
     "data": {
      "text/plain": [
       "<BarContainer object of 13 artists>"
      ]
     },
     "execution_count": 232,
     "metadata": {},
     "output_type": "execute_result"
    },
    {
     "data": {
      "image/png": "[encoded data removed]",
      "text/plain": [
       "<Figure size 432x288 with 1 Axes>"
      ]
     },
     "metadata": {
      "needs_background": "light"
     },
     "output_type": "display_data"
    }
   ],
   "source": [
    "plt.bar(Teams_Short,toss_win_match_win_percentage)"
   ]
  },
  {
   "cell_type": "code",
   "execution_count": 236,
   "metadata": {},
   "outputs": [
    {
     "name": "stdout",
     "output_type": "stream",
     "text": [
      "The team which is most likely to win if they win the toss is: **Gujarat Lions**\n",
      "With a win percentage of 66.67 when they win the toss\n"
     ]
    }
   ],
   "source": [
    "win_toss=next(iter((toss_win_records.items())))\n",
    "print(\"The team which is most likely to win if they win the toss is: **\"+win_toss[0]+\"**\\nWith a win percentage of \"+str(win_toss[1])+\" when they win the toss\")"
   ]
  },
  {
   "cell_type": "code",
   "execution_count": 237,
   "metadata": {},
   "outputs": [
    {
     "name": "stdout",
     "output_type": "stream",
     "text": [
      "[75, 32, 87, 15, 95, 6, 86, 89, 26, 67, 17, 99, 62]\n",
      "[43.0, 10.0, 35.0, 3.0, 47.0, 2.0, 39.0, 53.0, 9.0, 33.0, 7.0, 43.0, 35.0]\n"
     ]
    }
   ],
   "source": [
    "#Count Number of Toss Loss\n",
    "toss_loss_count=[0]*len(Teams)\n",
    "toss_loss_and_match_wins=[0]*len(Teams)\n",
    "for i in range(len(Teams)):\n",
    "    toss_loss_count[i]=total_matches[i]-toss_wins_count[i]\n",
    "    toss_loss_and_match_wins[i]=won_matches_count[i]-toss_and_match_wins[i]\n",
    "print(toss_loss_count)\n",
    "print(toss_loss_and_match_wins)"
   ]
  },
  {
   "cell_type": "code",
   "execution_count": 238,
   "metadata": {},
   "outputs": [
    {
     "name": "stdout",
     "output_type": "stream",
     "text": [
      "[57.33, 31.25, 40.23, 20.0, 49.47, 33.33, 45.35, 59.55, 34.62, 49.25, 41.18, 43.43, 56.45]\n"
     ]
    }
   ],
   "source": [
    "#Toss Lost and Match Win Percentage\n",
    "toss_loss_match_win_percentage=[]\n",
    "for i in range(len(Teams)):\n",
    "    toss_loss_match_win_percentage.append(float('{0:.4g}'.format(toss_loss_and_match_wins[i]*100/toss_loss_count[i])))\n",
    "print(toss_loss_match_win_percentage)"
   ]
  },
  {
   "cell_type": "code",
   "execution_count": 239,
   "metadata": {},
   "outputs": [
    {
     "name": "stdout",
     "output_type": "stream",
     "text": [
      "Toss Loss but Match Win Records for Teams:\n",
      "TEAM                           TOSS LOSS MATCH WIN %         \n",
      "Mumbai Indians                 59.55                         \n",
      "Chennai Super Kings            57.33                         \n",
      "SunRisers Hyderabad            56.45                         \n",
      "Kings XI Punjab                49.47                         \n",
      "Rajasthan Royals               49.25                         \n",
      "Kolkata Knight Riders          45.35                         \n",
      "Royal Challengers Bangalore    43.43                         \n",
      "Rising Pune Supergiants        41.18                         \n",
      "Delhi Daredevils               40.23                         \n",
      "Pune Warriors India            34.62                         \n",
      "Kochi Tuskers Kerala           33.33                         \n",
      "Deccan Chargers                31.25                         \n",
      "Gujarat Lions                  20.0                          \n"
     ]
    }
   ],
   "source": [
    "#Toss Loss Records\n",
    "toss_loss_records=dict(zip(Teams,toss_loss_match_win_percentage))\n",
    "toss_loss_records=dict(sorted(toss_loss_records.items(), key=lambda x: x[1], reverse=True))\n",
    "print(\"Toss Loss but Match Win Records for Teams:\")\n",
    "print(\"{:<30} {:<30}\".format('TEAM', 'TOSS LOSS MATCH WIN %'))\n",
    "for key, value in toss_loss_records.items():\n",
    "    print(\"{:<30} {:<30}\".format(key, value))"
   ]
  },
  {
   "cell_type": "code",
   "execution_count": 240,
   "metadata": {},
   "outputs": [
    {
     "data": {
      "text/plain": [
       "<BarContainer object of 13 artists>"
      ]
     },
     "execution_count": 240,
     "metadata": {},
     "output_type": "execute_result"
    },
    {
     "data": {
      "image/png": "[encoded data removed]",
      "text/plain": [
       "<Figure size 432x288 with 1 Axes>"
      ]
     },
     "metadata": {
      "needs_background": "light"
     },
     "output_type": "display_data"
    }
   ],
   "source": [
    "plt.bar(Teams_Short, toss_loss_match_win_percentage)"
   ]
  },
  {
   "cell_type": "code",
   "execution_count": 242,
   "metadata": {},
   "outputs": [
    {
     "name": "stdout",
     "output_type": "stream",
     "text": [
      "The team which is most likely to win if they win the toss is: **Mumbai Indians**\n",
      "With a win percentage of 59.55 when they lose the toss\n"
     ]
    }
   ],
   "source": [
    "lose_toss=next(iter((toss_loss_records.items())))\n",
    "print(\"The team which is most likely to win if they win the toss is: **\"+lose_toss[0]+\"**\\nWith a win percentage of \"+str(lose_toss[1])+\" when they lose the toss\")"
   ]
  },
  {
   "cell_type": "code",
   "execution_count": 245,
   "metadata": {},
   "outputs": [
    {
     "name": "stdout",
     "output_type": "stream",
     "text": [
      "[89, 43, 78, 14, 91, 7, 83, 101, 20, 67, 15, 85, 63]\n",
      "[51, 18, 28, 1, 38, 2, 34, 58, 6, 29, 5, 35, 30]\n"
     ]
    }
   ],
   "source": [
    "#Count Number of First Batting Instances\n",
    "total_bat_first_count=[]\n",
    "bat_first_wins=[]\n",
    "for i in Teams:\n",
    "    df_team=df_matches[(df_matches[\"team1\"]==i) | (df_matches[\"team2\"]==i)]\n",
    "    df_i=df_team[((df_team[\"toss_winner\"]==i) & (df_team[\"toss_decision\"]==\"bat\"))] \n",
    "    df_j=df_team[((df_team[\"toss_winner\"]!=i) & (df_team[\"toss_decision\"]==\"field\"))]\n",
    "    total_bat_first_count.append(len(df_i)+len(df_j))\n",
    "    bat_first_wins.append(int(df_i[\"winner\"].str.count(i).sum()+(df_j[\"winner\"].str.count(i).sum())))\n",
    "print(total_bat_first_count)\n",
    "print(bat_first_wins)"
   ]
  },
  {
   "cell_type": "code",
   "execution_count": 247,
   "metadata": {},
   "outputs": [
    {
     "name": "stdout",
     "output_type": "stream",
     "text": [
      "[57.3, 41.86, 35.9, 7.143, 41.76, 28.57, 40.96, 57.43, 30.0, 43.28, 33.33, 41.18, 47.62]\n"
     ]
    }
   ],
   "source": [
    "#Batting First and Winning Percentage\n",
    "bat_first_match_win_percentage=[]\n",
    "for i in range(len(Teams)):\n",
    "    bat_first_match_win_percentage.append(float('{0:.4g}'.format(bat_first_wins[i]*100/total_bat_first_count[i])))\n",
    "print(bat_first_match_win_percentage)"
   ]
  },
  {
   "cell_type": "code",
   "execution_count": 249,
   "metadata": {},
   "outputs": [
    {
     "name": "stdout",
     "output_type": "stream",
     "text": [
      "Batting First Win Records for Teams:\n",
      "TEAM                           BAT FIRST MATCH WIN %         \n",
      "Mumbai Indians                 57.43                         \n",
      "Chennai Super Kings            57.3                          \n",
      "SunRisers Hyderabad            47.62                         \n",
      "Rajasthan Royals               43.28                         \n",
      "Deccan Chargers                41.86                         \n",
      "Kings XI Punjab                41.76                         \n",
      "Royal Challengers Bangalore    41.18                         \n",
      "Kolkata Knight Riders          40.96                         \n",
      "Delhi Daredevils               35.9                          \n",
      "Rising Pune Supergiants        33.33                         \n",
      "Pune Warriors India            30.0                          \n",
      "Kochi Tuskers Kerala           28.57                         \n",
      "Gujarat Lions                  7.143                         \n"
     ]
    }
   ],
   "source": [
    "#Batting First Records\n",
    "bat_first_records=dict(zip(Teams,bat_first_match_win_percentage))\n",
    "bat_first_records=dict(sorted(bat_first_records.items(), key=lambda x: x[1], reverse=True))\n",
    "print(\"Batting First Win Records for Teams:\")\n",
    "print(\"{:<30} {:<30}\".format('TEAM', 'BAT FIRST MATCH WIN %'))\n",
    "for key, value in bat_first_records.items():\n",
    "    print(\"{:<30} {:<30}\".format(key, value))"
   ]
  },
  {
   "cell_type": "code",
   "execution_count": 250,
   "metadata": {},
   "outputs": [
    {
     "data": {
      "text/plain": [
       "<BarContainer object of 13 artists>"
      ]
     },
     "execution_count": 250,
     "metadata": {},
     "output_type": "execute_result"
    },
    {
     "data": {
      "image/png": "[encoded data removed]",
      "text/plain": [
       "<Figure size 432x288 with 1 Axes>"
      ]
     },
     "metadata": {
      "needs_background": "light"
     },
     "output_type": "display_data"
    }
   ],
   "source": [
    "plt.bar(Teams_Short,bat_first_match_win_percentage)"
   ]
  },
  {
   "cell_type": "code",
   "execution_count": 251,
   "metadata": {},
   "outputs": [
    {
     "name": "stdout",
     "output_type": "stream",
     "text": [
      "The Best Target Defending Team is: **Mumbai Indians**\n",
      "With a win percentage of 57.43 when they bat first.\n"
     ]
    }
   ],
   "source": [
    "bat_first=next(iter((bat_first_records.items())))\n",
    "print(\"The Best Target Defending Team is: **\"+bat_first[0]+\"**\\nWith a win percentage of \"+str(bat_first[1])+\" when they bat first.\")"
   ]
  },
  {
   "cell_type": "code",
   "execution_count": 253,
   "metadata": {},
   "outputs": [
    {
     "name": "stdout",
     "output_type": "stream",
     "text": [
      "[75, 32, 99, 16, 85, 7, 95, 86, 26, 80, 15, 95, 45]\n",
      "[49, 11, 49, 12, 44, 4, 58, 51, 6, 46, 10, 49, 28]\n"
     ]
    }
   ],
   "source": [
    "#Count Number of Second Batting Instances\n",
    "total_bat_second_count=[]\n",
    "bat_second_wins=[]\n",
    "for i in Teams:\n",
    "    df_team=df_matches[(df_matches[\"team1\"]==i) | (df_matches[\"team2\"]==i)]\n",
    "    df_i=df_team[((df_team[\"toss_winner\"]==i) & (df_team[\"toss_decision\"]==\"field\"))]\n",
    "    df_j=df_team[((df_team[\"toss_winner\"]!=i) & (df_team[\"toss_decision\"]==\"bat\"))]\n",
    "    total_bat_second_count.append(len(df_i)+len(df_j))\n",
    "    bat_second_wins.append(int(df_i[\"winner\"].str.count(i).sum()+(df_j[\"winner\"].str.count(i).sum())))\n",
    "print(total_bat_second_count)\n",
    "print(bat_second_wins)"
   ]
  },
  {
   "cell_type": "code",
   "execution_count": 255,
   "metadata": {},
   "outputs": [
    {
     "name": "stdout",
     "output_type": "stream",
     "text": [
      "[65.33, 34.38, 49.49, 75.0, 51.76, 57.14, 61.05, 59.3, 23.08, 57.5, 66.67, 51.58, 62.22]\n"
     ]
    }
   ],
   "source": [
    "#Batting Second and Winning Percentage\n",
    "bat_second_match_win_percentage=[]\n",
    "for i in range(len(Teams)):\n",
    "    bat_second_match_win_percentage.append(float('{0:.4g}'.format(bat_second_wins[i]*100/total_bat_second_count[i])))\n",
    "print(bat_second_match_win_percentage)"
   ]
  },
  {
   "cell_type": "code",
   "execution_count": 256,
   "metadata": {},
   "outputs": [
    {
     "name": "stdout",
     "output_type": "stream",
     "text": [
      "Batting Second Win Records for Teams:\n",
      "TEAM                           BAT SECOND MATCH WIN %        \n",
      "Gujarat Lions                  75.0                          \n",
      "Rising Pune Supergiants        66.67                         \n",
      "Chennai Super Kings            65.33                         \n",
      "SunRisers Hyderabad            62.22                         \n",
      "Kolkata Knight Riders          61.05                         \n",
      "Mumbai Indians                 59.3                          \n",
      "Rajasthan Royals               57.5                          \n",
      "Kochi Tuskers Kerala           57.14                         \n",
      "Kings XI Punjab                51.76                         \n",
      "Royal Challengers Bangalore    51.58                         \n",
      "Delhi Daredevils               49.49                         \n",
      "Deccan Chargers                34.38                         \n",
      "Pune Warriors India            23.08                         \n"
     ]
    }
   ],
   "source": [
    "#Batting Second Records\n",
    "bat_second_records=dict(zip(Teams,bat_second_match_win_percentage))\n",
    "bat_second_records=dict(sorted(bat_second_records.items(), key=lambda x: x[1], reverse=True))\n",
    "print(\"Batting Second Win Records for Teams:\")\n",
    "print(\"{:<30} {:<30}\".format('TEAM', 'BAT SECOND MATCH WIN %'))\n",
    "for key, value in bat_second_records.items():\n",
    "    print(\"{:<30} {:<30}\".format(key, value))"
   ]
  },
  {
   "cell_type": "code",
   "execution_count": 257,
   "metadata": {},
   "outputs": [
    {
     "data": {
      "text/plain": [
       "<BarContainer object of 13 artists>"
      ]
     },
     "execution_count": 257,
     "metadata": {},
     "output_type": "execute_result"
    },
    {
     "data": {
      "image/png": "[encoded data removed]",
      "text/plain": [
       "<Figure size 432x288 with 1 Axes>"
      ]
     },
     "metadata": {
      "needs_background": "light"
     },
     "output_type": "display_data"
    }
   ],
   "source": [
    "plt.bar(Teams_Short,bat_second_match_win_percentage)"
   ]
  },
  {
   "cell_type": "code",
   "execution_count": 258,
   "metadata": {},
   "outputs": [
    {
     "name": "stdout",
     "output_type": "stream",
     "text": [
      "The Best Chasing Team is: **Gujarat Lions**\n",
      "With a win percentage of 75.0 when they chase a target.\n"
     ]
    }
   ],
   "source": [
    "bat_second=next(iter((bat_second_records.items())))\n",
    "print(\"The Best Chasing Team is: **\"+bat_second[0]+\"**\\nWith a win percentage of \"+str(bat_second[1])+\" when they chase a target.\")"
   ]
  },
  {
   "cell_type": "markdown",
   "metadata": {},
   "source": [
    "## Players' Statistics"
   ]
  },
  {
   "cell_type": "code",
   "execution_count": 175,
   "metadata": {},
   "outputs": [],
   "source": [
    "#Stats of players only during overs 1-20 is considered during their IPL careers\n",
    "deliveries=df_deliveries[(df_deliveries[\"inning\"]==1) | (df_deliveries[\"inning\"]==2)]"
   ]
  },
  {
   "cell_type": "code",
   "execution_count": 176,
   "metadata": {},
   "outputs": [
    {
     "data": {
      "text/plain": [
       "(179078, 21)"
      ]
     },
     "execution_count": 176,
     "metadata": {},
     "output_type": "execute_result"
    }
   ],
   "source": [
    "df_deliveries.shape"
   ]
  },
  {
   "cell_type": "code",
   "execution_count": 177,
   "metadata": {},
   "outputs": [
    {
     "data": {
      "text/plain": [
       "(178982, 21)"
      ]
     },
     "execution_count": 177,
     "metadata": {},
     "output_type": "execute_result"
    }
   ],
   "source": [
    "deliveries.shape"
   ]
  },
  {
   "cell_type": "code",
   "execution_count": 178,
   "metadata": {},
   "outputs": [
    {
     "name": "stdout",
     "output_type": "stream",
     "text": [
      "Total Number of Batsmen:  516\n"
     ]
    }
   ],
   "source": [
    "#Total Batsmen\n",
    "batsmen=deliveries[\"batsman\"].unique()\n",
    "print(\"Total Number of Batsmen: \",len(batsmen))"
   ]
  },
  {
   "cell_type": "code",
   "execution_count": 179,
   "metadata": {},
   "outputs": [
    {
     "name": "stdout",
     "output_type": "stream",
     "text": [
      "Total Number of Bowlers:  405\n"
     ]
    }
   ],
   "source": [
    "#Total Bowlers\n",
    "bowlers=deliveries[\"bowler\"].unique()\n",
    "print(\"Total Number of Bowlers: \",len(bowlers))"
   ]
  },
  {
   "cell_type": "code",
   "execution_count": 180,
   "metadata": {},
   "outputs": [],
   "source": [
    "#Total Balls faced by all Batsmen\n",
    "balls_batted=[]\n",
    "for i in batsmen:\n",
    "    balls_batted.append([deliveries[\"batsman\"].str.count(i).sum(),i])\n",
    "#print(balls_batted)"
   ]
  },
  {
   "cell_type": "code",
   "execution_count": 181,
   "metadata": {},
   "outputs": [
    {
     "data": {
      "text/plain": [
       "[[3397, 'DA Warner'],\n",
       " [3776, 'S Dhawan'],\n",
       " [769, 'MC Henriques'],\n",
       " [2205, 'Yuvraj Singh'],\n",
       " [431, 'DJ Hooda'],\n",
       " [146, 'BCJ Cutting'],\n",
       " [3119, 'CH Gayle'],\n",
       " [1254, 'Mandeep Singh'],\n",
       " [151, 'TM Head'],\n",
       " [879, 'KM Jadhav'],\n",
       " [2635, 'SR Watson'],\n",
       " [106, 'Sachin Baby'],\n",
       " [700, 'STR Binny'],\n",
       " [59, 'S Aravind'],\n",
       " [49, 'YS Chahal'],\n",
       " [11, 'TS Mills'],\n",
       " [20, 'A Choudhary'],\n",
       " [2444, 'PA Patel'],\n",
       " [952, 'JC Buttler'],\n",
       " [3816, 'RG Sharma'],\n",
       " [835, 'N Rana'],\n",
       " [2681, 'AT Rayudu'],\n",
       " [635, 'KH Pandya'],\n",
       " [1960, 'KA Pollard'],\n",
       " [734, 'HH Pandya'],\n",
       " [91, 'TG Southee'],\n",
       " [3215, 'AM Rahane'],\n",
       " [1027, 'MA Agarwal'],\n",
       " [1611, 'SPD Smith'],\n",
       " [493, 'BA Stokes'],\n",
       " [3318, 'MS Dhoni'],\n",
       " [139, 'JJ Roy'],\n",
       " [2267, 'BB McCullum'],\n",
       " [4041, 'SK Raina'],\n",
       " [1368, 'AJ Finch'],\n",
       " [2889, 'KD Karthik'],\n",
       " [3524, 'G Gambhir'],\n",
       " [939, 'CA Lynn'],\n",
       " [1489, 'MK Tiwary'],\n",
       " [384, 'DT Christian'],\n",
       " [418, 'HM Amla'],\n",
       " [800, 'M Vohra'],\n",
       " [1382, 'WP Saha'],\n",
       " [655, 'AR Patel'],\n",
       " [901, 'GJ Maxwell'],\n",
       " [1375, 'DA Miller'],\n",
       " [26, 'Vishnu Vinod'],\n",
       " [86, 'Iqbal Abdulla'],\n",
       " [301, 'P Negi'],\n",
       " [285, 'AP Tare'],\n",
       " [256, 'SW Billings'],\n",
       " [1160, 'KK Nair'],\n",
       " [1728, 'SV Samson'],\n",
       " [1100, 'RR Pant'],\n",
       " [339, 'CH Morris'],\n",
       " [120, 'CR Brathwaite'],\n",
       " [56, 'PJ Cummins'],\n",
       " [410, 'A Mishra'],\n",
       " [79, 'S Nadeem'],\n",
       " [141, 'Z Khan'],\n",
       " [1803, 'DR Smith'],\n",
       " [111, 'DS Kulkarni'],\n",
       " [323, 'P Kumar'],\n",
       " [37, 'Basil Thampi'],\n",
       " [3490, 'RV Uthappa'],\n",
       " [2422, 'MK Pandey'],\n",
       " [2330, 'YK Pathan'],\n",
       " [478, 'SA Yadav'],\n",
       " [66, 'CR Woakes'],\n",
       " [481, 'SP Narine'],\n",
       " [632, 'Harbhajan Singh'],\n",
       " [2973, 'AB de Villiers'],\n",
       " [436, 'CJ Anderson'],\n",
       " [1499, 'F du Plessis'],\n",
       " [571, 'RA Tripathi'],\n",
       " [290, 'R Bhatia'],\n",
       " [46, 'DL Chahar'],\n",
       " [8, 'A Zampa'],\n",
       " [50, 'AB Dinda'],\n",
       " [27, 'Imran Tahir'],\n",
       " [1360, 'NV Ojha'],\n",
       " [429, 'V Shankar'],\n",
       " [67, 'Rashid Khan'],\n",
       " [197, 'B Kumar'],\n",
       " [373, 'MP Stoinis'],\n",
       " [120, 'MM Sharma'],\n",
       " [63, 'VR Aaron'],\n",
       " [4209, 'V Kohli'],\n",
       " [73, 'MJ McClenaghan'],\n",
       " [114, 'Ankit Sharma'],\n",
       " [21, 'SN Thakur'],\n",
       " [13, 'RD Chahar'],\n",
       " [1, 'LH Ferguson'],\n",
       " [229, 'C de Grandhomme'],\n",
       " [124, 'Bipul Sharma'],\n",
       " [1369, 'SS Iyer'],\n",
       " [725, 'EJG Morgan'],\n",
       " [21, 'KC Cariappa'],\n",
       " [40, 'Sandeep Sharma'],\n",
       " [546, 'Ishan Kishan'],\n",
       " [54, 'JD Unadkat'],\n",
       " [12, 'AF Milne'],\n",
       " [25, 'S Badree'],\n",
       " [599, 'AD Mathews'],\n",
       " [54, 'Mohammed Shami'],\n",
       " [94, 'Mohammad Nabi'],\n",
       " [62, 'I Sharma'],\n",
       " [1632, 'RA Jadeja'],\n",
       " [72, 'AJ Tye'],\n",
       " [981, 'KS Williamson'],\n",
       " [1908, 'SE Marsh'],\n",
       " [613, 'Shakib Al Hasan'],\n",
       " [405, 'JP Faulkner'],\n",
       " [168, 'MG Johnson'],\n",
       " [83, 'K Rabada'],\n",
       " [99, 'AD Nath'],\n",
       " [53, 'NM Coulter-Nile'],\n",
       " [55, 'Kuldeep Yadav'],\n",
       " [133, 'UT Yadav'],\n",
       " [56, 'Washington Sundar'],\n",
       " [285, 'KV Sharma'],\n",
       " [5, 'DM Bravo'],\n",
       " [12, 'AR Bawne'],\n",
       " [31, 'SP Jackson'],\n",
       " [196, 'MJ Guptill'],\n",
       " [47, 'Anureet Singh'],\n",
       " [981, 'IK Pathan'],\n",
       " [9, 'Ankit Soni'],\n",
       " [39, 'JJ Bumrah'],\n",
       " [103, 'SL Malinga'],\n",
       " [41, 'PJ Sangwan'],\n",
       " [28, 'S Kaul'],\n",
       " [878, 'LMP Simmons'],\n",
       " [174, 'MN Samuels'],\n",
       " [20, 'Swapnil Singh'],\n",
       " [93, 'R Tewatia'],\n",
       " [41, 'MM Patel'],\n",
       " [1111, 'SS Tiwary'],\n",
       " [14, 'TA Boult'],\n",
       " [5, 'CJ Jordan'],\n",
       " [100, 'IR Jaggi'],\n",
       " [541, 'PP Chawla'],\n",
       " [31, 'AS Rajpoot'],\n",
       " [1326, 'SC Ganguly'],\n",
       " [129, 'RT Ponting'],\n",
       " [1101, 'DJ Hussey'],\n",
       " [84, 'Mohammad Hafeez'],\n",
       " [1918, 'R Dravid'],\n",
       " [129, 'W Jaffer'],\n",
       " [2291, 'JH Kallis'],\n",
       " [769, 'CL White'],\n",
       " [318, 'MV Boucher'],\n",
       " [57, 'B Akhil'],\n",
       " [12, 'AA Noffke'],\n",
       " [16, 'SB Joshi'],\n",
       " [838, 'ML Hayden'],\n",
       " [1648, 'MEK Hussey'],\n",
       " [110, 'JDP Oram'],\n",
       " [1245, 'S Badrinath'],\n",
       " [239, 'K Goel'],\n",
       " [314, 'JR Hopes'],\n",
       " [1424, 'KC Sangakkara'],\n",
       " [191, 'SM Katich'],\n",
       " [20, 'T Kohli'],\n",
       " [258, 'M Kaif'],\n",
       " [19, 'DS Lehmann'],\n",
       " [70, 'M Rawat'],\n",
       " [24, 'D Salunkhe'],\n",
       " [219, 'SK Warne'],\n",
       " [61, 'SK Trivedi'],\n",
       " [1833, 'V Sehwag'],\n",
       " [37, 'L Ronchi'],\n",
       " [573, 'ST Jayasuriya'],\n",
       " [54, 'DJ Thornely'],\n",
       " [97, 'PR Shah'],\n",
       " [588, 'AM Nayar'],\n",
       " [116, 'SM Pollock'],\n",
       " [33, 'S Chanderpaul'],\n",
       " [847, 'LRPL Taylor'],\n",
       " [1555, 'AC Gilchrist'],\n",
       " [865, 'Y Venugopal Rao'],\n",
       " [271, 'VVS Laxman'],\n",
       " [781, 'A Symonds'],\n",
       " [134, 'SB Styris'],\n",
       " [760, 'AS Yadav'],\n",
       " [58, 'SB Bangar'],\n",
       " [73, 'WPUJC Vaas'],\n",
       " [78, 'RP Singh'],\n",
       " [358, 'LR Shukla'],\n",
       " [1520, 'DPMD Jayawardene'],\n",
       " [311, 'S Sohal'],\n",
       " [102, 'B Lee'],\n",
       " [76, 'WA Mota'],\n",
       " [78, 'Kamran Akmal'],\n",
       " [46, 'Shahid Afridi'],\n",
       " [1193, 'DJ Bravo'],\n",
       " [22, 'MA Khote'],\n",
       " [63, 'A Nehra'],\n",
       " [691, 'GC Smith'],\n",
       " [12, 'Pankaj Singh'],\n",
       " [78, 'RR Sarwan'],\n",
       " [57, 'S Sreesanth'],\n",
       " [3, 'VRV Singh'],\n",
       " [289, 'R Vinay Kumar'],\n",
       " [160, 'AB Agarkar'],\n",
       " [109, 'M Kartik'],\n",
       " [49, 'Shoaib Malik'],\n",
       " [124, 'MF Maharoof'],\n",
       " [28, 'VY Mahesh'],\n",
       " [11, 'TM Srivastava'],\n",
       " [256, 'B Chipli'],\n",
       " [161, 'DW Steyn'],\n",
       " [267, 'DB Das'],\n",
       " [837, 'HH Gibbs'],\n",
       " [9, 'DNT Zoysa'],\n",
       " [8, 'D Kalyankrishna'],\n",
       " [352, 'SA Asnodkar'],\n",
       " [31, 'Sohail Tanvir'],\n",
       " [172, 'Salman Butt'],\n",
       " [1153, 'BJ Hodge'],\n",
       " [19, 'Umar Gul'],\n",
       " [171, 'SP Fleming'],\n",
       " [115, 'S Vidyut'],\n",
       " [711, 'JA Morkel'],\n",
       " [27, 'LPC Silva'],\n",
       " [325, 'DB Ravi Teja'],\n",
       " [82, 'Misbah-ul-Haq'],\n",
       " [183, 'YV Takawale'],\n",
       " [18, 'RR Raje'],\n",
       " [6, 'Mohammad Asif'],\n",
       " [5, 'GD McGrath'],\n",
       " [30, 'Joginder Sharma'],\n",
       " [76, 'MS Gony'],\n",
       " [30, 'M Muralitharan'],\n",
       " [19, 'M Ntini'],\n",
       " [13, 'DT Patil'],\n",
       " [49, 'A Kumble'],\n",
       " [121, 'S Anirudha'],\n",
       " [24, 'CK Kapugedera'],\n",
       " [75, 'A Chopra'],\n",
       " [26, 'T Taibu'],\n",
       " [24, 'J Arunkumar'],\n",
       " [45, 'PP Ojha'],\n",
       " [302, 'SP Goswami'],\n",
       " [2044, 'SR Tendulkar'],\n",
       " [1, 'U Kaul'],\n",
       " [1047, 'TM Dilshan'],\n",
       " [79, 'AD Mascarenhas'],\n",
       " [124, 'Niraj Patel'],\n",
       " [251, 'LA Pomersbach'],\n",
       " [7, 'Younis Khan'],\n",
       " [2, 'PM Sarvesh Kumar'],\n",
       " [1, 'DP Vijaykumar'],\n",
       " [8, 'Shoaib Akhtar'],\n",
       " [2, 'Abdur Razzak'],\n",
       " [5, 'H Das'],\n",
       " [92, 'SD Chitnis'],\n",
       " [3, 'CRD Fernando'],\n",
       " [2, 'VS Yeligati'],\n",
       " [50, 'L Balaji'],\n",
       " [23, 'A Mukund'],\n",
       " [64, 'RR Powar'],\n",
       " [1680, 'JP Duminy'],\n",
       " [57, 'A Flintoff'],\n",
       " [19, 'T Thushara'],\n",
       " [466, 'JD Ryder'],\n",
       " [758, 'KP Pietersen'],\n",
       " [16, 'T Henderson'],\n",
       " [5, 'Kamran Khan'],\n",
       " [468, 'RS Bopara'],\n",
       " [17, 'R Bishnoi'],\n",
       " [5, 'FH Edwards'],\n",
       " [432, 'PC Valthaty'],\n",
       " [105, 'RJ Quiney'],\n",
       " [172, 'AS Raut'],\n",
       " [67, 'Yashpal Singh'],\n",
       " [486, 'M Manhas'],\n",
       " [88, 'AA Bilakhia'],\n",
       " [8, 'AN Ghosh'],\n",
       " [6, 'BAW Mendis'],\n",
       " [118, 'DL Vettori'],\n",
       " [135, 'MN van Wyk'],\n",
       " [144, 'RE van der Merwe'],\n",
       " [587, 'TL Suman'],\n",
       " [6, 'Shoaib Ahmed'],\n",
       " [16, 'GR Napier'],\n",
       " [4, 'KP Appanna'],\n",
       " [71, 'LA Carseldine'],\n",
       " [14, 'SM Harwood'],\n",
       " [2164, 'M Vijay'],\n",
       " [30, 'SB Jakati'],\n",
       " [112, 'RJ Harris'],\n",
       " [13, 'D du Preez'],\n",
       " [93, 'M Morkel'],\n",
       " [364, 'J Botha'],\n",
       " [1, 'C Nanda'],\n",
       " [2, 'Mashrafe Mortaza'],\n",
       " [10, 'A Singh'],\n",
       " [552, 'GJ Bailey'],\n",
       " [103, 'AB McDonald'],\n",
       " [271, 'Y Nagar'],\n",
       " [7, 'SS Shaikh'],\n",
       " [350, 'R Ashwin'],\n",
       " [12, 'Mohammad Ashraful'],\n",
       " [403, 'CA Pujara'],\n",
       " [405, 'OA Shah'],\n",
       " [69, 'Anirudh Singh'],\n",
       " [11, 'Jaskaran Singh'],\n",
       " [236, 'R Sathish'],\n",
       " [178, 'R McLaren'],\n",
       " [218, 'AA Jhunjhunwala'],\n",
       " [141, 'P Dogra'],\n",
       " [7, 'A Uniyal'],\n",
       " [737, 'MS Bisla'],\n",
       " [1, 'YA Abdulla'],\n",
       " [25, 'JM Kemp'],\n",
       " [4, 'S Tyagi'],\n",
       " [8, 'RS Gavaskar'],\n",
       " [2, 'SE Bond'],\n",
       " [10, 'S Ladda'],\n",
       " [13, 'DP Nannes'],\n",
       " [198, 'MJ Lumb'],\n",
       " [26, 'DR Martyn'],\n",
       " [29, 'S Narwal'],\n",
       " [43, 'AB Barath'],\n",
       " [179, 'FY Fazal'],\n",
       " [143, 'AC Voges'],\n",
       " [213, 'MD Mishra'],\n",
       " [13, 'J Theron'],\n",
       " [5, 'SJ Srivastava'],\n",
       " [77, 'R Sharma'],\n",
       " [26, 'SW Tait'],\n",
       " [53, 'KB Arun Karthik'],\n",
       " [9, 'KAJ Roach'],\n",
       " [159, 'PD Collingwood'],\n",
       " [9, 'CK Langeveldt'],\n",
       " [7, 'VS Malik'],\n",
       " [26, 'A Mithun'],\n",
       " [23, 'AP Dole'],\n",
       " [27, 'AN Ahmed'],\n",
       " [2, 'RS Sodhi'],\n",
       " [23, 'DE Bollinger'],\n",
       " [38, 'S Sriram'],\n",
       " [38, 'B Sumanth'],\n",
       " [21, 'C Madan'],\n",
       " [61, 'AG Paunikar'],\n",
       " [201, 'MR Marsh'],\n",
       " [12, 'Harmeet Singh'],\n",
       " [53, 'RV Gomez'],\n",
       " [26, 'AUK Pathan'],\n",
       " [314, 'UBT Chand'],\n",
       " [101, 'DJ Jacobs'],\n",
       " [31, 'Sunny Singh'],\n",
       " [1, 'NJ Rimmington'],\n",
       " [367, 'AL Menaria'],\n",
       " [80, 'WD Parnell'],\n",
       " [17, 'JJ van der Wath'],\n",
       " [6, 'R Ninan'],\n",
       " [33, 'MS Wade'],\n",
       " [29, 'TD Paine'],\n",
       " [3, 'SB Wagh'],\n",
       " [19, 'AC Thomas'],\n",
       " [309, 'JEC Franklin'],\n",
       " [142, 'DH Yagnik'],\n",
       " [4, 'S Randiv'],\n",
       " [11, 'BJ Haddin'],\n",
       " [324, 'NLTC Perera'],\n",
       " [23, 'NL McCullum'],\n",
       " [4, 'JE Taylor'],\n",
       " [27, 'J Syed Mohammad'],\n",
       " [238, 'RN ten Doeschate'],\n",
       " [59, 'TR Birt'],\n",
       " [14, 'AG Murtaza'],\n",
       " [26, 'Harpreet Singh'],\n",
       " [78, 'M Klinger'],\n",
       " [91, 'AC Blizzard'],\n",
       " [4, 'I Malhotra'],\n",
       " [2, 'L Ablish'],\n",
       " [26, 'CA Ingram'],\n",
       " [3, 'P Parameswaran'],\n",
       " [119, 'CJ Ferguson'],\n",
       " [11, 'AA Chavan'],\n",
       " [13, 'ND Doshi'],\n",
       " [18, 'Y Gnaneswara Rao'],\n",
       " [82, 'S Rana'],\n",
       " [7, 'BA Bhatt'],\n",
       " [74, 'RE Levi'],\n",
       " [70, 'KK Cooper'],\n",
       " [74, 'HV Patel'],\n",
       " [9, 'DAJ Bracewell'],\n",
       " [103, 'DJ Harris'],\n",
       " [22, 'GB Hogg'],\n",
       " [2, 'RR Bhatkal'],\n",
       " [15, 'CJ McKay'],\n",
       " [147, 'N Saini'],\n",
       " [311, 'Azhar Mahmood'],\n",
       " [32, 'RJ Peterson'],\n",
       " [3, 'KMDN Kulasekara'],\n",
       " [196, 'A Ashish Reddy'],\n",
       " [1, 'V Pratap Singh'],\n",
       " [116, 'BB Samantray'],\n",
       " [96, 'MJ Clarke'],\n",
       " [353, 'Gurkeerat Singh'],\n",
       " [77, 'AP Majumdar'],\n",
       " [167, 'PA Reddy'],\n",
       " [9, 'K Upadhyay'],\n",
       " [14, 'P Awana'],\n",
       " [801, 'AD Russell'],\n",
       " [7, 'A Chandila'],\n",
       " [1, 'Sunny Gupta'],\n",
       " [134, 'MC Juneja'],\n",
       " [323, 'GH Vihari'],\n",
       " [13, 'MDKJ Perera'],\n",
       " [381, 'R Shukla'],\n",
       " [13, 'B Laughlin'],\n",
       " [27, 'BMAJ Mendis'],\n",
       " [52, 'R Rampaul'],\n",
       " [17, 'SMSM Senanayake'],\n",
       " [145, 'BJ Rohrer'],\n",
       " [1465, 'KL Rahul'],\n",
       " [1136, 'Q de Kock'],\n",
       " [135, 'R Dhawan'],\n",
       " [63, 'LJ Wright'],\n",
       " [2, 'IC Pandey'],\n",
       " [158, 'CM Gautam'],\n",
       " [17, 'X Thalaivan Sargunam'],\n",
       " [251, 'DJG Sammy'],\n",
       " [39, 'KW Richardson'],\n",
       " [15, 'UA Birla'],\n",
       " [20, 'Parvez Rasool'],\n",
       " [39, 'PV Tambe'],\n",
       " [21, 'NJ Maddinson'],\n",
       " [46, 'JDS Neesham'],\n",
       " [98, 'MA Starc'],\n",
       " [36, 'BR Dunk'],\n",
       " [51, 'RR Rossouw'],\n",
       " [3, 'Shivam Sharma'],\n",
       " [26, 'VH Zol'],\n",
       " [3, 'BE Hendricks'],\n",
       " [120, 'S Gopal'],\n",
       " [2, 'M de Lange'],\n",
       " [32, 'JO Holder'],\n",
       " [17, 'Karanveer Singh'],\n",
       " [13, 'SA Abbott'],\n",
       " [48, 'J Suchith'],\n",
       " [2, 'RG More'],\n",
       " [94, 'D Wiese'],\n",
       " [291, 'SN Khan'],\n",
       " [3, 'DJ Muthuswami'],\n",
       " [144, 'C Munro'],\n",
       " [13, 'P Sahu'],\n",
       " [8, 'KJ Abbott'],\n",
       " [8, 'M Ashwin'],\n",
       " [33, 'NS Naik'],\n",
       " [12, 'PSP Handscomb'],\n",
       " [12, 'J Yadav'],\n",
       " [105, 'UT Khawaja'],\n",
       " [13, 'F Behardien'],\n",
       " [14, 'BB Sran'],\n",
       " [1, 'S Kaushik'],\n",
       " [15, 'ER Dwivedi'],\n",
       " [343, 'E Lewis'],\n",
       " [5, 'M Wood'],\n",
       " [68, 'R Singh'],\n",
       " [102, 'D Short'],\n",
       " [86, 'K Gowtham'],\n",
       " [28, 'T Curran'],\n",
       " [30, 'M Markande'],\n",
       " [2, 'B Stanlake'],\n",
       " [11, 'M Ur Rahman'],\n",
       " [5, 'A Dananjaya'],\n",
       " [384, 'S Gill'],\n",
       " [15, 'S Mavi'],\n",
       " [38, 'Mohammed Siraj'],\n",
       " [58, 'H Klaasen'],\n",
       " [18, 'R Bhui'],\n",
       " [62, 'J Archer'],\n",
       " [435, 'P Shaw'],\n",
       " [3, 'L Plunkett'],\n",
       " [3, 'Mustafizur Rahman'],\n",
       " [119, 'A Hales'],\n",
       " [24, 'M Lomror'],\n",
       " [20, 'D Shorey'],\n",
       " [183, 'M Ali'],\n",
       " [7, 'P Krishna'],\n",
       " [6, 'P Chopra'],\n",
       " [6, 'J Searles'],\n",
       " [18, 'I Sodhi'],\n",
       " [76, 'S Hetmyer'],\n",
       " [33, 'S Dube'],\n",
       " [293, 'J Bairstow'],\n",
       " [157, 'C Ingram'],\n",
       " [26, 'K Paul'],\n",
       " [4, 'R Salam'],\n",
       " [110, 'N Pooran'],\n",
       " [17, 'N Naik'],\n",
       " [331, 'H Vihari'],\n",
       " [25, 'P R Barman'],\n",
       " [55, 'S Curran'],\n",
       " [7, 'H Viljoen'],\n",
       " [3, 'Avesh Khan'],\n",
       " [1, 'S Lamichhane'],\n",
       " [4, 'S Sharma'],\n",
       " [5, 'H Gurney'],\n",
       " [13, 'SD Lad'],\n",
       " [13, 'A Joseph'],\n",
       " [133, 'R Parag'],\n",
       " [25, 'M Santner'],\n",
       " [1, 'J Denly'],\n",
       " [48, 'L Livingstone'],\n",
       " [1, 'K Ahmed'],\n",
       " [11, 'A Turner'],\n",
       " [14, 'H Brar'],\n",
       " [55, 'S Rutherford'],\n",
       " [1, 'P Raj'],\n",
       " [18, 'S Singh']]"
      ]
     },
     "execution_count": 181,
     "metadata": {},
     "output_type": "execute_result"
    }
   ],
   "source": [
    "balls_batted"
   ]
  },
  {
   "cell_type": "code",
   "execution_count": 182,
   "metadata": {},
   "outputs": [],
   "source": [
    "#Total Runs scored by Top Batsmen\n",
    "balls_batted.sort(reverse=True)\n",
    "best_batsmen=balls_batted[0:25]\n",
    "high_runs=[]\n",
    "for i in best_batsmen:\n",
    "    df_i=deliveries[deliveries[\"batsman\"]==i[1]]\n",
    "    high_runs.append([df_i[\"batsman_runs\"].sum(),i[1]])"
   ]
  },
  {
   "cell_type": "code",
   "execution_count": 183,
   "metadata": {},
   "outputs": [
    {
     "name": "stdout",
     "output_type": "stream",
     "text": [
      "Highest Run Scorers in IPL from 2008-2019:\n",
      "[5429, 'V Kohli']\n",
      "[5407, 'SK Raina']\n",
      "[4914, 'RG Sharma']\n",
      "[4741, 'DA Warner']\n",
      "[4632, 'S Dhawan']\n",
      "[4535, 'CH Gayle']\n",
      "[4477, 'MS Dhoni']\n",
      "[4444, 'RV Uthappa']\n",
      "[4415, 'AB de Villiers']\n",
      "[4223, 'G Gambhir']\n"
     ]
    }
   ],
   "source": [
    "#Highest Runs List\n",
    "high_runs.sort(reverse=True)\n",
    "high_runs=high_runs[0:10]\n",
    "high_runs_batsmen=[]\n",
    "runs_scored=[]\n",
    "print(\"Highest Run Scorers in IPL from 2008-2019:\")\n",
    "for i in high_runs:\n",
    "    high_runs_batsmen.append(i[1])\n",
    "    runs_scored.append(i[0])\n",
    "    print(i)"
   ]
  },
  {
   "cell_type": "code",
   "execution_count": 184,
   "metadata": {},
   "outputs": [
    {
     "data": {
      "text/plain": [
       "<BarContainer object of 10 artists>"
      ]
     },
     "execution_count": 184,
     "metadata": {},
     "output_type": "execute_result"
    },
    {
     "data": {
      "image/png": "[encoded data removed]",
      "text/plain": [
       "<Figure size 432x288 with 1 Axes>"
      ]
     },
     "metadata": {
      "needs_background": "light"
     },
     "output_type": "display_data"
    }
   ],
   "source": [
    "plt.barh(high_runs_batsmen[::-1], runs_scored[::-1])"
   ]
  },
  {
   "cell_type": "code",
   "execution_count": 185,
   "metadata": {},
   "outputs": [
    {
     "name": "stdout",
     "output_type": "stream",
     "text": [
      "The Highest Run Scorer in IPL till 2019 is: \u001b[1mV Kohli\u001b[0m with \u001b[1m5429\u001b[0m runs.\n"
     ]
    }
   ],
   "source": [
    "print(\"The Highest Run Scorer in IPL till 2019 is: \"'\\033[1m'+str(high_runs[0][1])+'\\033[0m'\" with \"'\\033[1m'+str(high_runs[0][0])+'\\033[0m'\" runs.\")"
   ]
  },
  {
   "cell_type": "code",
   "execution_count": 186,
   "metadata": {},
   "outputs": [],
   "source": [
    "#Total Balls bowled by All Bowlers\n",
    "balls_bowled=[]\n",
    "for i in bowlers:\n",
    "    balls_bowled.append([deliveries[\"bowler\"].str.count(i).sum(),i])"
   ]
  },
  {
   "cell_type": "code",
   "execution_count": 187,
   "metadata": {},
   "outputs": [
    {
     "data": {
      "text/plain": [
       "[[111, 'TS Mills'],\n",
       " [108, 'A Choudhary'],\n",
       " [1841, 'YS Chahal'],\n",
       " [788, 'S Aravind'],\n",
       " [2137, 'SR Watson'],\n",
       " [48, 'TM Head'],\n",
       " [612, 'STR Binny'],\n",
       " [1974, 'A Nehra'],\n",
       " [2707, 'B Kumar'],\n",
       " [288, 'BCJ Cutting'],\n",
       " [1103, 'Rashid Khan'],\n",
       " [233, 'DJ Hooda'],\n",
       " [918, 'MC Henriques'],\n",
       " [436, 'Bipul Sharma'],\n",
       " [1589, 'AB Dinda'],\n",
       " [728, 'DL Chahar'],\n",
       " [615, 'BA Stokes'],\n",
       " [1249, 'Imran Tahir'],\n",
       " [225, 'A Zampa'],\n",
       " [1661, 'R Bhatia'],\n",
       " [932, 'TG Southee'],\n",
       " [914, 'HH Pandya'],\n",
       " [1346, 'MJ McClenaghan'],\n",
       " [1788, 'JJ Bumrah'],\n",
       " [968, 'KH Pandya'],\n",
       " [1276, 'KA Pollard'],\n",
       " [802, 'TA Boult'],\n",
       " [3157, 'PP Chawla'],\n",
       " [2594, 'SP Narine'],\n",
       " [396, 'CR Woakes'],\n",
       " [838, 'Kuldeep Yadav'],\n",
       " [1184, 'YK Pathan'],\n",
       " [2637, 'P Kumar'],\n",
       " [1830, 'DS Kulkarni'],\n",
       " [925, 'MS Gony'],\n",
       " [210, 'S Kaushik'],\n",
       " [557, 'DR Smith'],\n",
       " [1101, 'SB Jakati'],\n",
       " [1546, 'Sandeep Sharma'],\n",
       " [1770, 'MM Sharma'],\n",
       " [1745, 'AR Patel'],\n",
       " [82, 'T Natarajan'],\n",
       " [378, 'MP Stoinis'],\n",
       " [61, 'Swapnil Singh'],\n",
       " [818, 'DT Christian'],\n",
       " [333, 'RD Chahar'],\n",
       " [2276, 'Z Khan'],\n",
       " [1328, 'CH Morris'],\n",
       " [379, 'PJ Cummins'],\n",
       " [1283, 'S Nadeem'],\n",
       " [3172, 'A Mishra'],\n",
       " [266, 'CR Brathwaite'],\n",
       " [150, 'B Stanlake'],\n",
       " [943, 'Iqbal Abdulla'],\n",
       " [734, 'P Negi'],\n",
       " [930, 'SK Raina'],\n",
       " [21, 'Tejas Baroka'],\n",
       " [413, 'Basil Thampi'],\n",
       " [2974, 'SL Malinga'],\n",
       " [3451, 'Harbhajan Singh'],\n",
       " [452, 'AS Rajpoot'],\n",
       " [978, 'VR Aaron'],\n",
       " [315, 'CJ Anderson'],\n",
       " [560, 'Mustafizur Rahman'],\n",
       " [2599, 'UT Yadav'],\n",
       " [230, 'C de Grandhomme'],\n",
       " [1999, 'I Sharma'],\n",
       " [432, 'GJ Maxwell'],\n",
       " [263, 'S Badree'],\n",
       " [618, 'AJ Tye'],\n",
       " [2541, 'RA Jadeja'],\n",
       " [388, 'Ankit Sharma'],\n",
       " [87, 'LH Ferguson'],\n",
       " [745, 'SN Thakur'],\n",
       " [224, 'KC Cariappa'],\n",
       " [1382, 'MM Patel'],\n",
       " [115, 'AF Milne'],\n",
       " [1541, 'JD Unadkat'],\n",
       " [586, 'NM Coulter-Nile'],\n",
       " [1075, 'Mohammed Shami'],\n",
       " [807, 'AD Mathews'],\n",
       " [516, 'BB Sran'],\n",
       " [1007, 'S Kaul'],\n",
       " [271, 'Mohammad Nabi'],\n",
       " [226, 'J Yadav'],\n",
       " [584, 'Mohammed Siraj'],\n",
       " [882, 'Yuvraj Singh'],\n",
       " [1276, 'JP Faulkner'],\n",
       " [1359, 'Shakib Al Hasan'],\n",
       " [429, 'K Rabada'],\n",
       " [1297, 'MG Johnson'],\n",
       " [358, 'Washington Sundar'],\n",
       " [24, 'SS Agarwal'],\n",
       " [25, 'NB Singh'],\n",
       " [1121, 'KV Sharma'],\n",
       " [6, 'RA Tripathi'],\n",
       " [112, 'Ankit Soni'],\n",
       " [430, 'Anureet Singh'],\n",
       " [2113, 'IK Pathan'],\n",
       " [849, 'PJ Sangwan'],\n",
       " [219, 'MN Samuels'],\n",
       " [31, 'MJ Henry'],\n",
       " [301, 'R Tewatia'],\n",
       " [2179, 'R Vinay Kumar'],\n",
       " [160, 'Avesh Khan'],\n",
       " [868, 'HV Patel'],\n",
       " [213, 'CJ Jordan'],\n",
       " [25, 'AA Noffke'],\n",
       " [1799, 'JH Kallis'],\n",
       " [55, 'SB Joshi'],\n",
       " [46, 'CL White'],\n",
       " [820, 'AB Agarkar'],\n",
       " [280, 'SC Ganguly'],\n",
       " [326, 'LR Shukla'],\n",
       " [916, 'B Lee'],\n",
       " [947, 'S Sreesanth'],\n",
       " [369, 'JR Hopes'],\n",
       " [67, 'K Goel'],\n",
       " [75, 'WA Mota'],\n",
       " [244, 'JDP Oram'],\n",
       " [1577, 'M Muralitharan'],\n",
       " [132, 'P Amarnath'],\n",
       " [272, 'Joginder Sharma'],\n",
       " [329, 'GD McGrath'],\n",
       " [49, 'B Geeves'],\n",
       " [441, 'MF Maharoof'],\n",
       " [785, 'DL Vettori'],\n",
       " [1557, 'SK Trivedi'],\n",
       " [1223, 'SK Warne'],\n",
       " [51, 'D Salunkhe'],\n",
       " [193, 'B Akhil'],\n",
       " [280, 'SM Pollock'],\n",
       " [301, 'ST Jayasuriya'],\n",
       " [239, 'AM Nayar'],\n",
       " [1182, 'M Kartik'],\n",
       " [63, 'Mohammad Hafeez'],\n",
       " [323, 'DJ Hussey'],\n",
       " [288, 'WPUJC Vaas'],\n",
       " [1874, 'RP Singh'],\n",
       " [222, 'SB Styris'],\n",
       " [153, 'SB Bangar'],\n",
       " [540, 'A Symonds'],\n",
       " [1945, 'PP Ojha'],\n",
       " [311, 'Pankaj Singh'],\n",
       " [199, 'Mohammad Asif'],\n",
       " [359, 'VY Mahesh'],\n",
       " [185, 'Shahid Afridi'],\n",
       " [2711, 'DJ Bravo'],\n",
       " [32, 'VS Yeligati'],\n",
       " [30, 'MA Khote'],\n",
       " [50, 'D Kalyankrishna'],\n",
       " [371, 'VRV Singh'],\n",
       " [265, 'Sohail Tanvir'],\n",
       " [983, 'A Kumble'],\n",
       " [69, 'DNT Zoysa'],\n",
       " [38, 'SD Chitnis'],\n",
       " [58, 'Shoaib Malik'],\n",
       " [2201, 'DW Steyn'],\n",
       " [1807, 'JA Morkel'],\n",
       " [249, 'CRD Fernando'],\n",
       " [264, 'V Kohli'],\n",
       " [138, 'V Sehwag'],\n",
       " [84, 'Gagandeep Singh'],\n",
       " [222, 'Y Venugopal Rao'],\n",
       " [153, 'Umar Gul'],\n",
       " [213, 'M Ntini'],\n",
       " [159, 'DP Vijaykumar'],\n",
       " [18, 'DB Ravi Teja'],\n",
       " [6, 'LPC Silva'],\n",
       " [44, 'DJ Thornely'],\n",
       " [144, 'RR Raje'],\n",
       " [13, 'S Vidyut'],\n",
       " [1574, 'L Balaji'],\n",
       " [17, 'CK Kapugedera'],\n",
       " [310, 'AD Mascarenhas'],\n",
       " [46, 'Shoaib Akhtar'],\n",
       " [443, 'RR Powar'],\n",
       " [31, 'PM Sarvesh Kumar'],\n",
       " [14, 'Abdur Razzak'],\n",
       " [275, 'TM Dilshan'],\n",
       " [342, 'RG Sharma'],\n",
       " [18, 'A Nel'],\n",
       " [244, 'BAW Mendis'],\n",
       " [144, 'T Thushara'],\n",
       " [66, 'A Flintoff'],\n",
       " [170, 'Kamran Khan'],\n",
       " [36, 'T Henderson'],\n",
       " [241, 'JD Ryder'],\n",
       " [689, 'DP Nannes'],\n",
       " [156, 'AM Salvi'],\n",
       " [222, 'YA Abdulla'],\n",
       " [212, 'VS Malik'],\n",
       " [150, 'FH Edwards'],\n",
       " [574, 'Harmeet Singh'],\n",
       " [579, 'CH Gayle'],\n",
       " [180, 'KP Pietersen'],\n",
       " [13, 'LRPL Taylor'],\n",
       " [213, 'RS Bopara'],\n",
       " [45, 'MK Tiwary'],\n",
       " [12, 'RR Bose'],\n",
       " [222, 'KP Appanna'],\n",
       " [103, 'Shoaib Ahmed'],\n",
       " [238, 'BJ Hodge'],\n",
       " [37, 'SR Tendulkar'],\n",
       " [455, 'RE van der Merwe'],\n",
       " [701, 'JP Duminy'],\n",
       " [220, 'S Tyagi'],\n",
       " [24, 'GR Napier'],\n",
       " [67, 'SM Harwood'],\n",
       " [30, 'AS Raut'],\n",
       " [43, 'D du Preez'],\n",
       " [865, 'RJ Harris'],\n",
       " [152, 'TL Suman'],\n",
       " [551, 'A Singh'],\n",
       " [1699, 'M Morkel'],\n",
       " [7, 'LA Carseldine'],\n",
       " [312, 'A Mithun'],\n",
       " [50, 'C Nanda'],\n",
       " [25, 'SS Sarkar'],\n",
       " [6, 'AM Rahane'],\n",
       " [709, 'J Botha'],\n",
       " [28, 'Mashrafe Mortaza'],\n",
       " [188, 'AB McDonald'],\n",
       " [72, 'Y Nagar'],\n",
       " [165, 'CK Langeveldt'],\n",
       " [3016, 'R Ashwin'],\n",
       " [6, 'RA Shaikh'],\n",
       " [111, 'Jaskaran Singh'],\n",
       " [534, 'SW Tait'],\n",
       " [38, 'A Uniyal'],\n",
       " [88, 'AA Jhunjhunwala'],\n",
       " [372, 'R McLaren'],\n",
       " [269, 'AG Murtaza'],\n",
       " [144, 'R Sathish'],\n",
       " [6, 'RS Gavaskar'],\n",
       " [47, 'JM Kemp'],\n",
       " [141, 'S Ladda'],\n",
       " [191, 'SE Bond'],\n",
       " [113, 'S Narwal'],\n",
       " [306, 'SJ Srivastava'],\n",
       " [56, 'AC Voges'],\n",
       " [935, 'R Sharma'],\n",
       " [230, 'J Theron'],\n",
       " [715, 'NLTC Perera'],\n",
       " [52, 'KAJ Roach'],\n",
       " [90, 'PD Collingwood'],\n",
       " [6, 'C Ganapathy'],\n",
       " [19, 'MB Parmar'],\n",
       " [108, 'SB Wagh'],\n",
       " [600, 'DE Bollinger'],\n",
       " [73, 'AP Dole'],\n",
       " [362, 'AN Ahmed'],\n",
       " [12, 'FY Fazal'],\n",
       " [327, 'MR Marsh'],\n",
       " [45, 'L Ablish'],\n",
       " [18, 'S Sriram'],\n",
       " [44, 'AJ Finch'],\n",
       " [57, 'ND Doshi'],\n",
       " [180, 'S Randiv'],\n",
       " [113, 'AL Menaria'],\n",
       " [41, 'AUK Pathan'],\n",
       " [97, 'RV Gomez'],\n",
       " [155, 'JEC Franklin'],\n",
       " [327, 'AC Thomas'],\n",
       " [601, 'WD Parnell'],\n",
       " [42, 'M Manhas'],\n",
       " [18, 'NJ Rimmington'],\n",
       " [83, 'RN ten Doeschate'],\n",
       " [303, 'BA Bhatt'],\n",
       " [76, 'JJ van der Wath'],\n",
       " [36, 'R Ninan'],\n",
       " [153, 'PC Valthaty'],\n",
       " [49, 'S Dhawan'],\n",
       " [196, 'J Syed Mohammad'],\n",
       " [30, 'NL McCullum'],\n",
       " [122, 'JE Taylor'],\n",
       " [107, 'KMDN Kulasekara'],\n",
       " [159, 'P Parameswaran'],\n",
       " [6, 'I Malhotra'],\n",
       " [6, 'B Chipli'],\n",
       " [13, 'AA Kazi'],\n",
       " [162, 'Anand Rajan'],\n",
       " [6, 'P Prasanth'],\n",
       " [6, 'Y Gnaneswara Rao'],\n",
       " [255, 'AA Chavan'],\n",
       " [16, 'S Rana'],\n",
       " [7, 'SS Mundhe'],\n",
       " [18, 'RW Price'],\n",
       " [116, 'M de Lange'],\n",
       " [600, 'KK Cooper'],\n",
       " [25, 'DAJ Bracewell'],\n",
       " [18, 'DJ Harris'],\n",
       " [74, 'TP Sudhindra'],\n",
       " [6, 'F du Plessis'],\n",
       " [466, 'GB Hogg'],\n",
       " [12, 'RR Bhatkal'],\n",
       " [774, 'P Awana'],\n",
       " [211, 'V Pratap Singh'],\n",
       " [42, 'CJ McKay'],\n",
       " [1072, 'AD Russell'],\n",
       " [270, 'A Ashish Reddy'],\n",
       " [552, 'Azhar Mahmood'],\n",
       " [234, 'A Chandila'],\n",
       " [75, 'LJ Wright'],\n",
       " [48, 'RJ Peterson'],\n",
       " [456, 'R Shukla'],\n",
       " [66, 'MJ Clarke'],\n",
       " [390, 'BW Hilfenhaus'],\n",
       " [2, 'SPD Smith'],\n",
       " [56, 'K Upadhyay'],\n",
       " [19, 'Sunny Gupta'],\n",
       " [179, 'B Laughlin'],\n",
       " [37, 'GH Vihari'],\n",
       " [30, 'BMAJ Mendis'],\n",
       " [0, 'Harmeet Singh (2)'],\n",
       " [513, 'R Dhawan'],\n",
       " [272, 'R Rampaul'],\n",
       " [195, 'SMSM Senanayake'],\n",
       " [228, 'JO Holder'],\n",
       " [469, 'IC Pandey'],\n",
       " [244, 'DJG Sammy'],\n",
       " [326, 'KW Richardson'],\n",
       " [107, 'P Suyal'],\n",
       " [674, 'PV Tambe'],\n",
       " [7, 'BJ Rohrer'],\n",
       " [200, 'Parvez Rasool'],\n",
       " [25, 'MG Neser'],\n",
       " [1, 'AC Gilchrist'],\n",
       " [612, 'MA Starc'],\n",
       " [57, 'JDS Neesham'],\n",
       " [37, 'M Vijay'],\n",
       " [6, 'SA Yadav'],\n",
       " [114, 'Shivam Sharma'],\n",
       " [92, 'V Shankar'],\n",
       " [18, 'LMP Simmons'],\n",
       " [51, 'K Santokie'],\n",
       " [593, 'S Gopal'],\n",
       " [157, 'BE Hendricks'],\n",
       " [61, 'JW Hastings'],\n",
       " [213, 'Karanveer Singh'],\n",
       " [84, 'DJ Muthuswami'],\n",
       " [32, 'SA Abbott'],\n",
       " [277, 'J Suchith'],\n",
       " [37, 'RG More'],\n",
       " [289, 'D Wiese'],\n",
       " [48, 'GS Sandhu'],\n",
       " [82, 'Gurkeerat Singh'],\n",
       " [432, 'M Ashwin'],\n",
       " [12, 'C Munro'],\n",
       " [107, 'P Sahu'],\n",
       " [102, 'KJ Abbott'],\n",
       " [96, 'T Shamsi'],\n",
       " [43, 'SM Boland'],\n",
       " [10, 'Sachin Baby'],\n",
       " [94, 'N Rana'],\n",
       " [6, 'KS Williamson'],\n",
       " [25, 'M Wood'],\n",
       " [305, 'M Markande'],\n",
       " [377, 'M Ur Rahman'],\n",
       " [101, 'K Khejroliya'],\n",
       " [367, 'K Gowtham'],\n",
       " [18, 'D Short'],\n",
       " [64, 'T Curran'],\n",
       " [25, 'A Dananjaya'],\n",
       " [179, 'S Mavi'],\n",
       " [514, 'J Archer'],\n",
       " [154, 'L Plunkett'],\n",
       " [183, 'I Sodhi'],\n",
       " [18, 'M Lomror'],\n",
       " [163, 'L Ngidi'],\n",
       " [38, 'KM Asif'],\n",
       " [61, 'D Willey'],\n",
       " [432, 'P Krishna'],\n",
       " [233, 'M Ali'],\n",
       " [45, 'J Searles'],\n",
       " [211, 'S Lamichhane'],\n",
       " [19, 'J Dala'],\n",
       " [241, 'K Ahmed'],\n",
       " [300, 'N Saini'],\n",
       " [11, 'S Dube'],\n",
       " [107, 'L Ferguson'],\n",
       " [265, 'S Sharma'],\n",
       " [27, 'R Salam'],\n",
       " [180, 'K Paul'],\n",
       " [207, 'S Curran'],\n",
       " [18, 'V Chakravarthy'],\n",
       " [146, 'H Viljoen'],\n",
       " [12, 'Mandeep Singh'],\n",
       " [24, 'P R Barman'],\n",
       " [88, 'M Santner'],\n",
       " [43, 'H Vihari'],\n",
       " [117, 'J Behrendorff'],\n",
       " [50, 'S Kuggeleijn'],\n",
       " [55, 'A Joseph'],\n",
       " [169, 'H Gurney'],\n",
       " [13, 'S Midhun'],\n",
       " [84, 'R Parag'],\n",
       " [6, 'L Livingstone'],\n",
       " [2, 'SN Khan'],\n",
       " [46, 'S Rutherford'],\n",
       " [30, 'H Brar'],\n",
       " [33, 'P Raj'],\n",
       " [63, 'O Thomas'],\n",
       " [15, 'A Roy'],\n",
       " [73, 'S Warrier']]"
      ]
     },
     "execution_count": 187,
     "metadata": {},
     "output_type": "execute_result"
    }
   ],
   "source": [
    "balls_bowled"
   ]
  },
  {
   "cell_type": "code",
   "execution_count": 188,
   "metadata": {},
   "outputs": [],
   "source": [
    "#Total Wickets taken by Top Bowlers\n",
    "balls_bowled.sort(reverse=True)\n",
    "best_bowlers=balls_bowled[0:25]\n",
    "bowler_deliveries=deliveries[(deliveries[\"dismissal_kind\"]==\"caught\") | (deliveries[\"dismissal_kind\"]==\"bowled\") \n",
    "| (deliveries[\"dismissal_kind\"]==\"lbw\") | (deliveries[\"dismissal_kind\"]==\"stumped\") \n",
    "| (deliveries[\"dismissal_kind\"]==\"caught and bowled\") | (deliveries[\"dismissal_kind\"]==\"hit wicket\")]\n",
    "high_wickets=[]\n",
    "for i in best_bowlers:\n",
    "    df_i=bowler_deliveries[bowler_deliveries[\"bowler\"]==i[1]]\n",
    "    high_wickets.append([df_i[\"dismissal_kind\"].count().sum(),i[1]])"
   ]
  },
  {
   "cell_type": "code",
   "execution_count": 189,
   "metadata": {},
   "outputs": [
    {
     "name": "stdout",
     "output_type": "stream",
     "text": [
      "Highest Wicket Takers in IPL from 2008-2019:\n",
      "[170, 'SL Malinga']\n",
      "[156, 'A Mishra']\n",
      "[150, 'Harbhajan Singh']\n",
      "[149, 'PP Chawla']\n",
      "[147, 'DJ Bravo']\n",
      "[133, 'B Kumar']\n",
      "[125, 'R Ashwin']\n",
      "[122, 'SP Narine']\n",
      "[119, 'UT Yadav']\n",
      "[108, 'RA Jadeja']\n"
     ]
    }
   ],
   "source": [
    "#Highest Wickets List\n",
    "high_wickets.sort(reverse=True)\n",
    "high_wickets=high_wickets[0:10]\n",
    "high_wickets_bowlers=[]\n",
    "wickets_taken=[]\n",
    "print(\"Highest Wicket Takers in IPL from 2008-2019:\")\n",
    "for i in high_wickets:\n",
    "    high_wickets_bowlers.append(i[1])\n",
    "    wickets_taken.append(i[0])\n",
    "    print(i)"
   ]
  },
  {
   "cell_type": "code",
   "execution_count": 190,
   "metadata": {},
   "outputs": [
    {
     "data": {
      "text/plain": [
       "<BarContainer object of 10 artists>"
      ]
     },
     "execution_count": 190,
     "metadata": {},
     "output_type": "execute_result"
    },
    {
     "data": {
      "image/png": "[encoded data removed]",
      "text/plain": [
       "<Figure size 432x288 with 1 Axes>"
      ]
     },
     "metadata": {
      "needs_background": "light"
     },
     "output_type": "display_data"
    }
   ],
   "source": [
    "plt.barh(high_wickets_bowlers[::-1],wickets_taken[::-1])"
   ]
  },
  {
   "cell_type": "code",
   "execution_count": 191,
   "metadata": {},
   "outputs": [
    {
     "name": "stdout",
     "output_type": "stream",
     "text": [
      "The Highest Wicket Taker in IPL till 2019 is: \u001b[1mSL Malinga\u001b[0m with \u001b[1m170\u001b[0m wickets.\n"
     ]
    }
   ],
   "source": [
    "print(\"The Highest Wicket Taker in IPL till 2019 is: \"'\\033[1m'+str(high_wickets[0][1])+'\\033[0m'\" with \"'\\033[1m'+str(high_wickets[0][0])+'\\033[0m'\" wickets.\")"
   ]
  },
  {
   "cell_type": "code",
   "execution_count": 192,
   "metadata": {},
   "outputs": [
    {
     "name": "stdout",
     "output_type": "stream",
     "text": [
      "Total Number of Wicket Keepers:  35\n",
      "['RR Pant', 'MS Dhoni', 'RV Uthappa', 'WP Saha', 'KM Jadhav', 'PA Patel', 'Vishnu Vinod', 'MV Boucher', 'Kamran Akmal', 'SP Goswami', 'YV Takawale', 'AC Gilchrist', 'KD Karthik', 'PR Shah', 'M Rawat', 'NV Ojha', 'KC Sangakkara', 'AP Tare', 'AT Rayudu', 'AB de Villiers', 'DJ Jacobs', 'MS Bisla', 'DH Yagnik', 'KH Devdhar', 'N Saini', 'BB McCullum', 'KB Arun Karthik', 'Q de Kock', 'Gurkeerat Singh', 'CM Gautam', 'SV Samson', 'KL Rahul', 'Ishan Kishan', 'H Klaasen', 'J Bairstow']\n"
     ]
    }
   ],
   "source": [
    "#Total Number of Wicket Keepers\n",
    "stumping_records=deliveries[deliveries[\"dismissal_kind\"]==\"stumped\"]\n",
    "keepers=stumping_records[\"fielder\"].unique()\n",
    "keepers=keepers.tolist()\n",
    "keepers=[a for a in keepers if (isinstance(a,str))]\n",
    "print(\"Total Number of Wicket Keepers: \",len(keepers))\n",
    "print(keepers)"
   ]
  },
  {
   "cell_type": "code",
   "execution_count": 193,
   "metadata": {},
   "outputs": [
    {
     "name": "stdout",
     "output_type": "stream",
     "text": [
      "The Best Wicket-Keepers are: \n",
      "[159, 'MS Dhoni']\n",
      "[152, 'KD Karthik']\n",
      "[125, 'RV Uthappa']\n",
      "[116, 'AB de Villiers']\n",
      "[97, 'PA Patel']\n",
      "[83, 'WP Saha']\n",
      "[82, 'NV Ojha']\n",
      "[75, 'AC Gilchrist']\n",
      "[65, 'AT Rayudu']\n",
      "[58, 'KC Sangakkara']\n"
     ]
    }
   ],
   "source": [
    "#Dismissal Records for Wicket Keepers\n",
    "catch_records=deliveries[(deliveries[\"dismissal_kind\"]==\"caught\") | (deliveries[\"dismissal_kind\"]==\"run out\")]\n",
    "keeping_total=[]\n",
    "for i in range(len(keepers)):\n",
    "    keeping_total.append([int((stumping_records[\"fielder\"].str.count(str(keepers[i])).sum())+(catch_records[\"fielder\"].str.count(str(keepers[i])).sum())),keepers[i]])\n",
    "print(\"The Best Wicket-Keepers are: \")\n",
    "keeping_total.sort(reverse=True)\n",
    "best_keepers=keeping_total[0:10]\n",
    "best_keeps=[]\n",
    "keeps_total=[]\n",
    "for i in best_keepers:\n",
    "    keeps_total.append(i[0])\n",
    "    best_keeps.append(i[1])\n",
    "    print(i)"
   ]
  },
  {
   "cell_type": "code",
   "execution_count": 194,
   "metadata": {},
   "outputs": [
    {
     "data": {
      "text/plain": [
       "<BarContainer object of 10 artists>"
      ]
     },
     "execution_count": 194,
     "metadata": {},
     "output_type": "execute_result"
    },
    {
     "data": {
      "image/png": "[encoded data removed]",
      "text/plain": [
       "<Figure size 432x288 with 1 Axes>"
      ]
     },
     "metadata": {
      "needs_background": "light"
     },
     "output_type": "display_data"
    }
   ],
   "source": [
    "plt.barh(best_keeps[::-1],keeps_total[::-1])"
   ]
  },
  {
   "cell_type": "code",
   "execution_count": 195,
   "metadata": {},
   "outputs": [
    {
     "name": "stdout",
     "output_type": "stream",
     "text": [
      "The Best Wicket-Keeper in IPL till 2019 is: \u001b[1mMS Dhoni\u001b[0m with \u001b[1m159\u001b[0m dismissals.\n"
     ]
    }
   ],
   "source": [
    "print(\"The Best Wicket-Keeper in IPL till 2019 is: \"'\\033[1m'+str(best_keepers[0][1])+'\\033[0m'\" with \"'\\033[1m'+str(best_keepers[0][0])+'\\033[0m'\" dismissals.\")"
   ]
  },
  {
   "cell_type": "code",
   "execution_count": 196,
   "metadata": {},
   "outputs": [
    {
     "name": "stdout",
     "output_type": "stream",
     "text": [
      "Total Number of Fielders:  417\n"
     ]
    }
   ],
   "source": [
    "#Total Number of Fielders:\n",
    "fielders=catch_records[\"fielder\"].unique()\n",
    "fielders=[a for a in fielders if (isinstance(a,str))]\n",
    "for i in range(len(fielders)):\n",
    "    if fielders[i].endswith(\"(sub)\"):\n",
    "        fielders[i]=fielders[i][:-6]\n",
    "fielders=list(set(fielders))\n",
    "fielders=[x for x in fielders if x not in keepers]\n",
    "print(\"Total Number of Fielders: \",len(fielders))"
   ]
  },
  {
   "cell_type": "code",
   "execution_count": 197,
   "metadata": {},
   "outputs": [
    {
     "name": "stdout",
     "output_type": "stream",
     "text": [
      "The Best Fielders are: \n",
      "[115, 'SK Raina']\n",
      "[92, 'RG Sharma']\n",
      "[90, 'V Kohli']\n",
      "[85, 'KA Pollard']\n",
      "[81, 'RA Jadeja']\n",
      "[78, 'DJ Bravo']\n",
      "[77, 'MK Pandey']\n",
      "[74, 'S Dhawan']\n",
      "[65, 'DA Warner']\n",
      "[64, 'AM Rahane']\n"
     ]
    }
   ],
   "source": [
    "#Catching Records for Fielders\n",
    "catches_total=[]\n",
    "for i in fielders:\n",
    "    catches_total.append([int(catch_records[\"fielder\"].str.contains(str(i)).sum()),i])\n",
    "print(\"The Best Fielders are: \")\n",
    "catches_total.sort(reverse=True)\n",
    "best_fielders=catches_total[0:10]\n",
    "best_fielders_1=[]\n",
    "catches=[]\n",
    "for i in best_fielders:\n",
    "    catches.append(i[0])\n",
    "    best_fielders_1.append(i[1])\n",
    "    print(i)"
   ]
  },
  {
   "cell_type": "code",
   "execution_count": 198,
   "metadata": {},
   "outputs": [
    {
     "data": {
      "text/plain": [
       "<BarContainer object of 10 artists>"
      ]
     },
     "execution_count": 198,
     "metadata": {},
     "output_type": "execute_result"
    },
    {
     "data": {
      "image/png": "[encoded data removed]",
      "text/plain": [
       "<Figure size 432x288 with 1 Axes>"
      ]
     },
     "metadata": {
      "needs_background": "light"
     },
     "output_type": "display_data"
    }
   ],
   "source": [
    "plt.barh(best_fielders_1[::-1],catches[::-1])"
   ]
  },
  {
   "cell_type": "code",
   "execution_count": 199,
   "metadata": {},
   "outputs": [
    {
     "name": "stdout",
     "output_type": "stream",
     "text": [
      "The Best Fielder in IPL till 2019 is: \u001b[1mSK Raina\u001b[0m with \u001b[1m115\u001b[0m dismissals.\n"
     ]
    }
   ],
   "source": [
    "print(\"The Best Fielder in IPL till 2019 is: \"'\\033[1m'+str(best_fielders[0][1])+'\\033[0m'\" with \"'\\033[1m'+str(best_fielders[0][0])+'\\033[0m'\" dismissals.\")"
   ]
  },
  {
   "cell_type": "code",
   "execution_count": 200,
   "metadata": {},
   "outputs": [
    {
     "data": {
      "image/png": "[encoded data removed]",
      "text/plain": [
       "<Figure size 432x288 with 1 Axes>"
      ]
     },
     "metadata": {
      "needs_background": "light"
     },
     "output_type": "display_data"
    }
   ],
   "source": [
    "#Calculating Batsman Stats for Each Year \n",
    "years=[2008,2009,2010,2011,2012,2013,2014,2015,2016,2017,2018,2019]\n",
    "runs_per_year=[0]*12\n",
    "batsman=\"V Kohli\" #Enter batsman name here\n",
    "bats_stats=deliveries[deliveries[\"batsman\"]==batsman]\n",
    "matches_batted=bats_stats[\"match_id\"].unique()\n",
    "match_runs=[]\n",
    "for i in matches_batted:\n",
    "    df_i=bats_stats[bats_stats[\"match_id\"]==i]\n",
    "    season_row=df_matches[df_matches[\"id\"]==i]\n",
    "    season=season_row.iloc[0]['season']\n",
    "    season%=2008\n",
    "    runs_per_year[season]+=df_i[\"batsman_runs\"].sum()\n",
    "plt.figure()\n",
    "plt.title(batsman)\n",
    "plt.bar(years,runs_per_year)\n",
    "plt.show()"
   ]
  },
  {
   "cell_type": "code",
   "execution_count": 201,
   "metadata": {},
   "outputs": [
    {
     "data": {
      "image/png": "[encoded data removed]",
      "text/plain": [
       "<Figure size 432x288 with 1 Axes>"
      ]
     },
     "metadata": {
      "needs_background": "light"
     },
     "output_type": "display_data"
    }
   ],
   "source": [
    "#Calculating Bowler Stats for Each Year\n",
    "wickets_per_year=[0]*12\n",
    "bowler=\"SL Malinga\" #Enter bowler name here\n",
    "bowler_stats=bowler_deliveries[bowler_deliveries[\"bowler\"]==bowler]\n",
    "matches_bowled=bowler_stats[\"match_id\"].unique()\n",
    "match_wickets=[]\n",
    "for i in matches_bowled:\n",
    "    df_i=bowler_stats[bowler_stats[\"match_id\"]==i]\n",
    "    season_row=df_matches[df_matches[\"id\"]==i]\n",
    "    season=season_row.iloc[0]['season']\n",
    "    season%=2008\n",
    "    wickets_per_year[season]+=len(df_i)\n",
    "plt.figure()\n",
    "plt.title(bowler)\n",
    "plt.bar(years,wickets_per_year)\n",
    "plt.show()"
   ]
  },
  {
   "cell_type": "code",
   "execution_count": 260,
   "metadata": {},
   "outputs": [],
   "source": [
    "#Considering that we are a company that wants teams to endorse products\n",
    "Teams_eight=[\"Chennai Super Kings\",\"Delhi Capitals\",\"Kings XI Punjab\",\"Kolkata Knight Riders\",\"Mumbai Indians\",\"Rajasthan Royals\",\"Royal Challengers Bangalore\",\"Sunrisers Hyderabad\"]\n",
    "endorse_teams=[]\n",
    "endorse_teams.append(successful[0])\n",
    "endorse_teams.append(consistent[0])\n",
    "endorse_teams.append(fortress[0])\n",
    "endorse_teams.append(attacker[0])\n",
    "endorse_teams.append(win_toss[0])\n",
    "endorse_teams.append(lose_toss[0])\n",
    "endorse_teams=list(set(endorse_teams))\n",
    "endorse_teams=[x for x in endorse_teams if x in Teams_eight]"
   ]
  },
  {
   "cell_type": "code",
   "execution_count": 261,
   "metadata": {},
   "outputs": [],
   "source": [
    "#Considering that we are a company that wants players to endorse products\n",
    "endorse_players=[]\n",
    "for i in range(0,5):\n",
    "    endorse_players.append(high_runs_batsmen[i])\n",
    "for i in range(0,5):\n",
    "    endorse_players.append(high_wickets_bowlers[i])\n",
    "for i in range(0,5):\n",
    "    endorse_players.append(best_keeps[i])\n",
    "for i in range(0,5):\n",
    "    endorse_players.append(best_fielders_1[i])\n",
    "endorse_players=list(set(endorse_players))"
   ]
  },
  {
   "cell_type": "code",
   "execution_count": 262,
   "metadata": {},
   "outputs": [
    {
     "name": "stdout",
     "output_type": "stream",
     "text": [
      "The Best Teams for endorsing products are: \n",
      "Mumbai Indians\n",
      "Chennai Super Kings\n",
      "\n",
      "The Best Players for endorsing products are: \n",
      "A Mishra\n",
      "AB de Villiers\n",
      "DA Warner\n",
      "DJ Bravo\n",
      "Harbhajan Singh\n",
      "KA Pollard\n",
      "KD Karthik\n",
      "MS Dhoni\n",
      "PA Patel\n",
      "PP Chawla\n",
      "RA Jadeja\n",
      "RG Sharma\n",
      "RV Uthappa\n",
      "S Dhawan\n",
      "SK Raina\n",
      "SL Malinga\n",
      "V Kohli\n"
     ]
    }
   ],
   "source": [
    "print(\"The Best Teams for endorsing products are: \")\n",
    "for i in endorse_teams:\n",
    "    print(i)\n",
    "print(\"\\nThe Best Players for endorsing products are: \")\n",
    "endorse_players.sort()\n",
    "for i in endorse_players:\n",
    "    print(i)"
   ]
  },
  {
   "cell_type": "code",
   "execution_count": null,
   "metadata": {},
   "outputs": [],
   "source": []
  }
 ],
 "metadata": {
  "kernelspec": {
   "display_name": "Python 3",
   "language": "python",
   "name": "python3"
  },
  "language_info": {
   "codemirror_mode": {
    "name": "ipython",
    "version": 3
   },
   "file_extension": ".py",
   "mimetype": "text/x-python",
   "name": "python",
   "nbconvert_exporter": "python",
   "pygments_lexer": "ipython3",
   "version": "3.7.6"
  }
 },
 "nbformat": 4,
 "nbformat_minor": 4
}
